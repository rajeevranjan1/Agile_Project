{
 "cells": [
  {
   "cell_type": "code",
   "execution_count": 1,
   "id": "c9fa0028",
   "metadata": {},
   "outputs": [],
   "source": [
    "# Load the pre-processed data\n",
    "import pandas as pd\n",
    "import numpy as np\n",
    "import pickle"
   ]
  },
  {
   "cell_type": "code",
   "execution_count": 2,
   "id": "1bd4a5b2",
   "metadata": {},
   "outputs": [],
   "source": [
    "f=open('preprocessed_data.pkl','rb')\n",
    "df=pickle.load(f)\n",
    "f.close()"
   ]
  },
  {
   "cell_type": "code",
   "execution_count": 3,
   "id": "ef32b7f3",
   "metadata": {},
   "outputs": [
    {
     "data": {
      "text/html": [
       "<div>\n",
       "<style scoped>\n",
       "    .dataframe tbody tr th:only-of-type {\n",
       "        vertical-align: middle;\n",
       "    }\n",
       "\n",
       "    .dataframe tbody tr th {\n",
       "        vertical-align: top;\n",
       "    }\n",
       "\n",
       "    .dataframe thead th {\n",
       "        text-align: right;\n",
       "    }\n",
       "</style>\n",
       "<table border=\"1\" class=\"dataframe\">\n",
       "  <thead>\n",
       "    <tr style=\"text-align: right;\">\n",
       "      <th></th>\n",
       "      <th>story</th>\n",
       "      <th>role</th>\n",
       "      <th>story_point</th>\n",
       "    </tr>\n",
       "  </thead>\n",
       "  <tbody>\n",
       "    <tr>\n",
       "      <th>0</th>\n",
       "      <td>data user want 12192017 delet process</td>\n",
       "      <td>user</td>\n",
       "      <td>9</td>\n",
       "    </tr>\n",
       "    <tr>\n",
       "      <th>1</th>\n",
       "      <td>ui design want redesign resourc page match new...</td>\n",
       "      <td>designer</td>\n",
       "      <td>5</td>\n",
       "    </tr>\n",
       "    <tr>\n",
       "      <th>2</th>\n",
       "      <td>ui design want report agenc user test awar con...</td>\n",
       "      <td>designer</td>\n",
       "      <td>8</td>\n",
       "    </tr>\n",
       "    <tr>\n",
       "      <th>3</th>\n",
       "      <td>ui design want move round 2 dab fab land page ...</td>\n",
       "      <td>designer</td>\n",
       "      <td>5</td>\n",
       "    </tr>\n",
       "    <tr>\n",
       "      <th>4</th>\n",
       "      <td>ui design want move round 2 homepag edit get a...</td>\n",
       "      <td>designer</td>\n",
       "      <td>8</td>\n",
       "    </tr>\n",
       "  </tbody>\n",
       "</table>\n",
       "</div>"
      ],
      "text/plain": [
       "                                               story      role  story_point\n",
       "0              data user want 12192017 delet process      user            9\n",
       "1  ui design want redesign resourc page match new...  designer            5\n",
       "2  ui design want report agenc user test awar con...  designer            8\n",
       "3  ui design want move round 2 dab fab land page ...  designer            5\n",
       "4  ui design want move round 2 homepag edit get a...  designer            8"
      ]
     },
     "execution_count": 3,
     "metadata": {},
     "output_type": "execute_result"
    }
   ],
   "source": [
    "df.head()"
   ]
  },
  {
   "cell_type": "markdown",
   "id": "fe4eb4f1",
   "metadata": {},
   "source": [
    "## First we need to convert the *role* Column into numbers"
   ]
  },
  {
   "cell_type": "code",
   "execution_count": 4,
   "id": "d8cc7da3",
   "metadata": {},
   "outputs": [],
   "source": [
    "from sklearn.preprocessing import LabelEncoder\n",
    "le=LabelEncoder()"
   ]
  },
  {
   "cell_type": "code",
   "execution_count": 5,
   "id": "af5879a1",
   "metadata": {},
   "outputs": [],
   "source": [
    "df['le_role']=le.fit_transform(df['role'])"
   ]
  },
  {
   "cell_type": "code",
   "execution_count": 6,
   "id": "70e8e212",
   "metadata": {},
   "outputs": [
    {
     "data": {
      "text/html": [
       "<div>\n",
       "<style scoped>\n",
       "    .dataframe tbody tr th:only-of-type {\n",
       "        vertical-align: middle;\n",
       "    }\n",
       "\n",
       "    .dataframe tbody tr th {\n",
       "        vertical-align: top;\n",
       "    }\n",
       "\n",
       "    .dataframe thead th {\n",
       "        text-align: right;\n",
       "    }\n",
       "</style>\n",
       "<table border=\"1\" class=\"dataframe\">\n",
       "  <thead>\n",
       "    <tr style=\"text-align: right;\">\n",
       "      <th></th>\n",
       "      <th>story</th>\n",
       "      <th>role</th>\n",
       "      <th>story_point</th>\n",
       "      <th>le_role</th>\n",
       "    </tr>\n",
       "  </thead>\n",
       "  <tbody>\n",
       "    <tr>\n",
       "      <th>276</th>\n",
       "      <td>machin learn expert would like packag ml datas...</td>\n",
       "      <td>analyst</td>\n",
       "      <td>48</td>\n",
       "      <td>3</td>\n",
       "    </tr>\n",
       "    <tr>\n",
       "      <th>290</th>\n",
       "      <td>research work data want microsoft power bi int...</td>\n",
       "      <td>analyst</td>\n",
       "      <td>29</td>\n",
       "      <td>3</td>\n",
       "    </tr>\n",
       "    <tr>\n",
       "      <th>324</th>\n",
       "      <td>practition want includ addit detail profil pag...</td>\n",
       "      <td>analyst</td>\n",
       "      <td>34</td>\n",
       "      <td>3</td>\n",
       "    </tr>\n",
       "    <tr>\n",
       "      <th>327</th>\n",
       "      <td>practition want write articl site small graphi...</td>\n",
       "      <td>analyst</td>\n",
       "      <td>45</td>\n",
       "      <td>3</td>\n",
       "    </tr>\n",
       "    <tr>\n",
       "      <th>632</th>\n",
       "      <td>data analyst want download data packag studi w...</td>\n",
       "      <td>analyst</td>\n",
       "      <td>41</td>\n",
       "      <td>3</td>\n",
       "    </tr>\n",
       "    <tr>\n",
       "      <th>633</th>\n",
       "      <td>data analyst want updat previous download data...</td>\n",
       "      <td>analyst</td>\n",
       "      <td>37</td>\n",
       "      <td>3</td>\n",
       "    </tr>\n",
       "    <tr>\n",
       "      <th>635</th>\n",
       "      <td>data analyst want compar differ version datapa...</td>\n",
       "      <td>analyst</td>\n",
       "      <td>37</td>\n",
       "      <td>3</td>\n",
       "    </tr>\n",
       "    <tr>\n",
       "      <th>716</th>\n",
       "      <td>data contributor want refer disast recoveri pl...</td>\n",
       "      <td>analyst</td>\n",
       "      <td>49</td>\n",
       "      <td>3</td>\n",
       "    </tr>\n",
       "    <tr>\n",
       "      <th>754</th>\n",
       "      <td>data scientist want abl creat dataset instanc ...</td>\n",
       "      <td>analyst</td>\n",
       "      <td>27</td>\n",
       "      <td>3</td>\n",
       "    </tr>\n",
       "    <tr>\n",
       "      <th>755</th>\n",
       "      <td>data scientist want abl upgrad dataset instanc...</td>\n",
       "      <td>analyst</td>\n",
       "      <td>44</td>\n",
       "      <td>3</td>\n",
       "    </tr>\n",
       "    <tr>\n",
       "      <th>1118</th>\n",
       "      <td>data librarian want extract pointer dmp metada...</td>\n",
       "      <td>analyst</td>\n",
       "      <td>33</td>\n",
       "      <td>3</td>\n",
       "    </tr>\n",
       "    <tr>\n",
       "      <th>1136</th>\n",
       "      <td>data librarian want import administr inform re...</td>\n",
       "      <td>analyst</td>\n",
       "      <td>51</td>\n",
       "      <td>3</td>\n",
       "    </tr>\n",
       "    <tr>\n",
       "      <th>1175</th>\n",
       "      <td>institut data steward want abl extract data se...</td>\n",
       "      <td>analyst</td>\n",
       "      <td>39</td>\n",
       "      <td>3</td>\n",
       "    </tr>\n",
       "    <tr>\n",
       "      <th>1180</th>\n",
       "      <td>faculti data steward want see section cost ens...</td>\n",
       "      <td>analyst</td>\n",
       "      <td>47</td>\n",
       "      <td>3</td>\n",
       "    </tr>\n",
       "    <tr>\n",
       "      <th>1181</th>\n",
       "      <td>faculti data steward want see section role ens...</td>\n",
       "      <td>analyst</td>\n",
       "      <td>37</td>\n",
       "      <td>3</td>\n",
       "    </tr>\n",
       "    <tr>\n",
       "      <th>1182</th>\n",
       "      <td>faculti data steward want see section respons ...</td>\n",
       "      <td>analyst</td>\n",
       "      <td>53</td>\n",
       "      <td>3</td>\n",
       "    </tr>\n",
       "  </tbody>\n",
       "</table>\n",
       "</div>"
      ],
      "text/plain": [
       "                                                  story     role  story_point  \\\n",
       "276   machin learn expert would like packag ml datas...  analyst           48   \n",
       "290   research work data want microsoft power bi int...  analyst           29   \n",
       "324   practition want includ addit detail profil pag...  analyst           34   \n",
       "327   practition want write articl site small graphi...  analyst           45   \n",
       "632   data analyst want download data packag studi w...  analyst           41   \n",
       "633   data analyst want updat previous download data...  analyst           37   \n",
       "635   data analyst want compar differ version datapa...  analyst           37   \n",
       "716   data contributor want refer disast recoveri pl...  analyst           49   \n",
       "754   data scientist want abl creat dataset instanc ...  analyst           27   \n",
       "755   data scientist want abl upgrad dataset instanc...  analyst           44   \n",
       "1118  data librarian want extract pointer dmp metada...  analyst           33   \n",
       "1136  data librarian want import administr inform re...  analyst           51   \n",
       "1175  institut data steward want abl extract data se...  analyst           39   \n",
       "1180  faculti data steward want see section cost ens...  analyst           47   \n",
       "1181  faculti data steward want see section role ens...  analyst           37   \n",
       "1182  faculti data steward want see section respons ...  analyst           53   \n",
       "\n",
       "      le_role  \n",
       "276         3  \n",
       "290         3  \n",
       "324         3  \n",
       "327         3  \n",
       "632         3  \n",
       "633         3  \n",
       "635         3  \n",
       "716         3  \n",
       "754         3  \n",
       "755         3  \n",
       "1118        3  \n",
       "1136        3  \n",
       "1175        3  \n",
       "1180        3  \n",
       "1181        3  \n",
       "1182        3  "
      ]
     },
     "execution_count": 6,
     "metadata": {},
     "output_type": "execute_result"
    }
   ],
   "source": [
    "df[df['role']=='analyst']"
   ]
  },
  {
   "cell_type": "code",
   "execution_count": null,
   "id": "7bde1590",
   "metadata": {},
   "outputs": [],
   "source": []
  },
  {
   "cell_type": "code",
   "execution_count": 7,
   "id": "daeb4cb1",
   "metadata": {},
   "outputs": [],
   "source": [
    "df['role']=df['le_role']"
   ]
  },
  {
   "cell_type": "code",
   "execution_count": 8,
   "id": "0149e504",
   "metadata": {},
   "outputs": [],
   "source": [
    "df=df.drop('le_role',axis=1)"
   ]
  },
  {
   "cell_type": "code",
   "execution_count": 9,
   "id": "b4f59167",
   "metadata": {},
   "outputs": [
    {
     "data": {
      "text/html": [
       "<div>\n",
       "<style scoped>\n",
       "    .dataframe tbody tr th:only-of-type {\n",
       "        vertical-align: middle;\n",
       "    }\n",
       "\n",
       "    .dataframe tbody tr th {\n",
       "        vertical-align: top;\n",
       "    }\n",
       "\n",
       "    .dataframe thead th {\n",
       "        text-align: right;\n",
       "    }\n",
       "</style>\n",
       "<table border=\"1\" class=\"dataframe\">\n",
       "  <thead>\n",
       "    <tr style=\"text-align: right;\">\n",
       "      <th></th>\n",
       "      <th>story</th>\n",
       "      <th>role</th>\n",
       "      <th>story_point</th>\n",
       "    </tr>\n",
       "  </thead>\n",
       "  <tbody>\n",
       "    <tr>\n",
       "      <th>0</th>\n",
       "      <td>data user want 12192017 delet process</td>\n",
       "      <td>52</td>\n",
       "      <td>9</td>\n",
       "    </tr>\n",
       "    <tr>\n",
       "      <th>1</th>\n",
       "      <td>ui design want redesign resourc page match new...</td>\n",
       "      <td>17</td>\n",
       "      <td>5</td>\n",
       "    </tr>\n",
       "    <tr>\n",
       "      <th>2</th>\n",
       "      <td>ui design want report agenc user test awar con...</td>\n",
       "      <td>17</td>\n",
       "      <td>8</td>\n",
       "    </tr>\n",
       "    <tr>\n",
       "      <th>3</th>\n",
       "      <td>ui design want move round 2 dab fab land page ...</td>\n",
       "      <td>17</td>\n",
       "      <td>5</td>\n",
       "    </tr>\n",
       "    <tr>\n",
       "      <th>4</th>\n",
       "      <td>ui design want move round 2 homepag edit get a...</td>\n",
       "      <td>17</td>\n",
       "      <td>8</td>\n",
       "    </tr>\n",
       "    <tr>\n",
       "      <th>...</th>\n",
       "      <td>...</td>\n",
       "      <td>...</td>\n",
       "      <td>...</td>\n",
       "    </tr>\n",
       "    <tr>\n",
       "      <th>1666</th>\n",
       "      <td>zoonivers admin want know zoonibot give explan</td>\n",
       "      <td>1</td>\n",
       "      <td>17</td>\n",
       "    </tr>\n",
       "    <tr>\n",
       "      <th>1667</th>\n",
       "      <td>zoonivers admin want know zoonibot say volunt</td>\n",
       "      <td>1</td>\n",
       "      <td>22</td>\n",
       "    </tr>\n",
       "    <tr>\n",
       "      <th>1668</th>\n",
       "      <td>zoonivers admin want group subject similar</td>\n",
       "      <td>1</td>\n",
       "      <td>15</td>\n",
       "    </tr>\n",
       "    <tr>\n",
       "      <th>1669</th>\n",
       "      <td>zoonivers admin want recommend differ project ...</td>\n",
       "      <td>1</td>\n",
       "      <td>13</td>\n",
       "    </tr>\n",
       "    <tr>\n",
       "      <th>1670</th>\n",
       "      <td>admin want see summari articl reus</td>\n",
       "      <td>1</td>\n",
       "      <td>19</td>\n",
       "    </tr>\n",
       "  </tbody>\n",
       "</table>\n",
       "<p>1671 rows × 3 columns</p>\n",
       "</div>"
      ],
      "text/plain": [
       "                                                  story  role  story_point\n",
       "0                 data user want 12192017 delet process    52            9\n",
       "1     ui design want redesign resourc page match new...    17            5\n",
       "2     ui design want report agenc user test awar con...    17            8\n",
       "3     ui design want move round 2 dab fab land page ...    17            5\n",
       "4     ui design want move round 2 homepag edit get a...    17            8\n",
       "...                                                 ...   ...          ...\n",
       "1666     zoonivers admin want know zoonibot give explan     1           17\n",
       "1667      zoonivers admin want know zoonibot say volunt     1           22\n",
       "1668         zoonivers admin want group subject similar     1           15\n",
       "1669  zoonivers admin want recommend differ project ...     1           13\n",
       "1670                 admin want see summari articl reus     1           19\n",
       "\n",
       "[1671 rows x 3 columns]"
      ]
     },
     "execution_count": 9,
     "metadata": {},
     "output_type": "execute_result"
    }
   ],
   "source": [
    "df"
   ]
  },
  {
   "cell_type": "markdown",
   "id": "e2defe7b",
   "metadata": {},
   "source": [
    "## Vectorization using TF-IDF"
   ]
  },
  {
   "cell_type": "code",
   "execution_count": 10,
   "id": "8b39fedb",
   "metadata": {},
   "outputs": [],
   "source": [
    "from sklearn.feature_extraction.text import TfidfVectorizer\n",
    "tfidf=TfidfVectorizer()"
   ]
  },
  {
   "cell_type": "code",
   "execution_count": 11,
   "id": "e492c5eb",
   "metadata": {},
   "outputs": [],
   "source": [
    "ar_tfidf=tfidf.fit_transform(df['story']).toarray()"
   ]
  },
  {
   "cell_type": "code",
   "execution_count": 12,
   "id": "682864aa",
   "metadata": {},
   "outputs": [
    {
     "data": {
      "text/plain": [
       "(1671, 2217)"
      ]
     },
     "execution_count": 12,
     "metadata": {},
     "output_type": "execute_result"
    }
   ],
   "source": [
    "ar_tfidf.shape"
   ]
  },
  {
   "cell_type": "code",
   "execution_count": 13,
   "id": "2063f5e6",
   "metadata": {},
   "outputs": [],
   "source": [
    "# We need to preserve this transformer to transform the input story for Prediction\n",
    "f=open('tfidf_trans.trans','wb')\n",
    "pickle.dump(tfidf,f)\n",
    "f.close()"
   ]
  },
  {
   "cell_type": "code",
   "execution_count": 14,
   "id": "17de89ea",
   "metadata": {},
   "outputs": [],
   "source": [
    "column_names=[str(i) for i in range(ar_tfidf.shape[1])]"
   ]
  },
  {
   "cell_type": "code",
   "execution_count": 15,
   "id": "701de2f0",
   "metadata": {},
   "outputs": [],
   "source": [
    "df_TFIDF=pd.DataFrame(data=ar_tfidf,columns=column_names)"
   ]
  },
  {
   "cell_type": "code",
   "execution_count": 16,
   "id": "d91bd408",
   "metadata": {},
   "outputs": [],
   "source": [
    "df_TFIDF['role']=df['role']"
   ]
  },
  {
   "cell_type": "code",
   "execution_count": 17,
   "id": "ee7816e5",
   "metadata": {},
   "outputs": [],
   "source": [
    "df_TFIDF['story_point']=df['story_point']"
   ]
  },
  {
   "cell_type": "code",
   "execution_count": 18,
   "id": "6bd40ac9",
   "metadata": {},
   "outputs": [
    {
     "data": {
      "text/html": [
       "<div>\n",
       "<style scoped>\n",
       "    .dataframe tbody tr th:only-of-type {\n",
       "        vertical-align: middle;\n",
       "    }\n",
       "\n",
       "    .dataframe tbody tr th {\n",
       "        vertical-align: top;\n",
       "    }\n",
       "\n",
       "    .dataframe thead th {\n",
       "        text-align: right;\n",
       "    }\n",
       "</style>\n",
       "<table border=\"1\" class=\"dataframe\">\n",
       "  <thead>\n",
       "    <tr style=\"text-align: right;\">\n",
       "      <th></th>\n",
       "      <th>0</th>\n",
       "      <th>1</th>\n",
       "      <th>2</th>\n",
       "      <th>3</th>\n",
       "      <th>4</th>\n",
       "      <th>5</th>\n",
       "      <th>6</th>\n",
       "      <th>7</th>\n",
       "      <th>8</th>\n",
       "      <th>9</th>\n",
       "      <th>...</th>\n",
       "      <th>2209</th>\n",
       "      <th>2210</th>\n",
       "      <th>2211</th>\n",
       "      <th>2212</th>\n",
       "      <th>2213</th>\n",
       "      <th>2214</th>\n",
       "      <th>2215</th>\n",
       "      <th>2216</th>\n",
       "      <th>role</th>\n",
       "      <th>story_point</th>\n",
       "    </tr>\n",
       "  </thead>\n",
       "  <tbody>\n",
       "    <tr>\n",
       "      <th>0</th>\n",
       "      <td>0.0</td>\n",
       "      <td>0.0</td>\n",
       "      <td>0.0</td>\n",
       "      <td>0.0</td>\n",
       "      <td>0.682697</td>\n",
       "      <td>0.0</td>\n",
       "      <td>0.0</td>\n",
       "      <td>0.0</td>\n",
       "      <td>0.0</td>\n",
       "      <td>0.0</td>\n",
       "      <td>...</td>\n",
       "      <td>0.0</td>\n",
       "      <td>0.0</td>\n",
       "      <td>0.0</td>\n",
       "      <td>0.0</td>\n",
       "      <td>0.0</td>\n",
       "      <td>0.0</td>\n",
       "      <td>0.000000</td>\n",
       "      <td>0.000000</td>\n",
       "      <td>52</td>\n",
       "      <td>9</td>\n",
       "    </tr>\n",
       "    <tr>\n",
       "      <th>1</th>\n",
       "      <td>0.0</td>\n",
       "      <td>0.0</td>\n",
       "      <td>0.0</td>\n",
       "      <td>0.0</td>\n",
       "      <td>0.000000</td>\n",
       "      <td>0.0</td>\n",
       "      <td>0.0</td>\n",
       "      <td>0.0</td>\n",
       "      <td>0.0</td>\n",
       "      <td>0.0</td>\n",
       "      <td>...</td>\n",
       "      <td>0.0</td>\n",
       "      <td>0.0</td>\n",
       "      <td>0.0</td>\n",
       "      <td>0.0</td>\n",
       "      <td>0.0</td>\n",
       "      <td>0.0</td>\n",
       "      <td>0.000000</td>\n",
       "      <td>0.000000</td>\n",
       "      <td>17</td>\n",
       "      <td>5</td>\n",
       "    </tr>\n",
       "    <tr>\n",
       "      <th>2</th>\n",
       "      <td>0.0</td>\n",
       "      <td>0.0</td>\n",
       "      <td>0.0</td>\n",
       "      <td>0.0</td>\n",
       "      <td>0.000000</td>\n",
       "      <td>0.0</td>\n",
       "      <td>0.0</td>\n",
       "      <td>0.0</td>\n",
       "      <td>0.0</td>\n",
       "      <td>0.0</td>\n",
       "      <td>...</td>\n",
       "      <td>0.0</td>\n",
       "      <td>0.0</td>\n",
       "      <td>0.0</td>\n",
       "      <td>0.0</td>\n",
       "      <td>0.0</td>\n",
       "      <td>0.0</td>\n",
       "      <td>0.000000</td>\n",
       "      <td>0.000000</td>\n",
       "      <td>17</td>\n",
       "      <td>8</td>\n",
       "    </tr>\n",
       "    <tr>\n",
       "      <th>3</th>\n",
       "      <td>0.0</td>\n",
       "      <td>0.0</td>\n",
       "      <td>0.0</td>\n",
       "      <td>0.0</td>\n",
       "      <td>0.000000</td>\n",
       "      <td>0.0</td>\n",
       "      <td>0.0</td>\n",
       "      <td>0.0</td>\n",
       "      <td>0.0</td>\n",
       "      <td>0.0</td>\n",
       "      <td>...</td>\n",
       "      <td>0.0</td>\n",
       "      <td>0.0</td>\n",
       "      <td>0.0</td>\n",
       "      <td>0.0</td>\n",
       "      <td>0.0</td>\n",
       "      <td>0.0</td>\n",
       "      <td>0.000000</td>\n",
       "      <td>0.000000</td>\n",
       "      <td>17</td>\n",
       "      <td>5</td>\n",
       "    </tr>\n",
       "    <tr>\n",
       "      <th>4</th>\n",
       "      <td>0.0</td>\n",
       "      <td>0.0</td>\n",
       "      <td>0.0</td>\n",
       "      <td>0.0</td>\n",
       "      <td>0.000000</td>\n",
       "      <td>0.0</td>\n",
       "      <td>0.0</td>\n",
       "      <td>0.0</td>\n",
       "      <td>0.0</td>\n",
       "      <td>0.0</td>\n",
       "      <td>...</td>\n",
       "      <td>0.0</td>\n",
       "      <td>0.0</td>\n",
       "      <td>0.0</td>\n",
       "      <td>0.0</td>\n",
       "      <td>0.0</td>\n",
       "      <td>0.0</td>\n",
       "      <td>0.000000</td>\n",
       "      <td>0.000000</td>\n",
       "      <td>17</td>\n",
       "      <td>8</td>\n",
       "    </tr>\n",
       "    <tr>\n",
       "      <th>...</th>\n",
       "      <td>...</td>\n",
       "      <td>...</td>\n",
       "      <td>...</td>\n",
       "      <td>...</td>\n",
       "      <td>...</td>\n",
       "      <td>...</td>\n",
       "      <td>...</td>\n",
       "      <td>...</td>\n",
       "      <td>...</td>\n",
       "      <td>...</td>\n",
       "      <td>...</td>\n",
       "      <td>...</td>\n",
       "      <td>...</td>\n",
       "      <td>...</td>\n",
       "      <td>...</td>\n",
       "      <td>...</td>\n",
       "      <td>...</td>\n",
       "      <td>...</td>\n",
       "      <td>...</td>\n",
       "      <td>...</td>\n",
       "      <td>...</td>\n",
       "    </tr>\n",
       "    <tr>\n",
       "      <th>1666</th>\n",
       "      <td>0.0</td>\n",
       "      <td>0.0</td>\n",
       "      <td>0.0</td>\n",
       "      <td>0.0</td>\n",
       "      <td>0.000000</td>\n",
       "      <td>0.0</td>\n",
       "      <td>0.0</td>\n",
       "      <td>0.0</td>\n",
       "      <td>0.0</td>\n",
       "      <td>0.0</td>\n",
       "      <td>...</td>\n",
       "      <td>0.0</td>\n",
       "      <td>0.0</td>\n",
       "      <td>0.0</td>\n",
       "      <td>0.0</td>\n",
       "      <td>0.0</td>\n",
       "      <td>0.0</td>\n",
       "      <td>0.511533</td>\n",
       "      <td>0.355934</td>\n",
       "      <td>1</td>\n",
       "      <td>17</td>\n",
       "    </tr>\n",
       "    <tr>\n",
       "      <th>1667</th>\n",
       "      <td>0.0</td>\n",
       "      <td>0.0</td>\n",
       "      <td>0.0</td>\n",
       "      <td>0.0</td>\n",
       "      <td>0.000000</td>\n",
       "      <td>0.0</td>\n",
       "      <td>0.0</td>\n",
       "      <td>0.0</td>\n",
       "      <td>0.0</td>\n",
       "      <td>0.0</td>\n",
       "      <td>...</td>\n",
       "      <td>0.0</td>\n",
       "      <td>0.0</td>\n",
       "      <td>0.0</td>\n",
       "      <td>0.0</td>\n",
       "      <td>0.0</td>\n",
       "      <td>0.0</td>\n",
       "      <td>0.506680</td>\n",
       "      <td>0.352557</td>\n",
       "      <td>1</td>\n",
       "      <td>22</td>\n",
       "    </tr>\n",
       "    <tr>\n",
       "      <th>1668</th>\n",
       "      <td>0.0</td>\n",
       "      <td>0.0</td>\n",
       "      <td>0.0</td>\n",
       "      <td>0.0</td>\n",
       "      <td>0.000000</td>\n",
       "      <td>0.0</td>\n",
       "      <td>0.0</td>\n",
       "      <td>0.0</td>\n",
       "      <td>0.0</td>\n",
       "      <td>0.0</td>\n",
       "      <td>...</td>\n",
       "      <td>0.0</td>\n",
       "      <td>0.0</td>\n",
       "      <td>0.0</td>\n",
       "      <td>0.0</td>\n",
       "      <td>0.0</td>\n",
       "      <td>0.0</td>\n",
       "      <td>0.000000</td>\n",
       "      <td>0.429315</td>\n",
       "      <td>1</td>\n",
       "      <td>15</td>\n",
       "    </tr>\n",
       "    <tr>\n",
       "      <th>1669</th>\n",
       "      <td>0.0</td>\n",
       "      <td>0.0</td>\n",
       "      <td>0.0</td>\n",
       "      <td>0.0</td>\n",
       "      <td>0.000000</td>\n",
       "      <td>0.0</td>\n",
       "      <td>0.0</td>\n",
       "      <td>0.0</td>\n",
       "      <td>0.0</td>\n",
       "      <td>0.0</td>\n",
       "      <td>...</td>\n",
       "      <td>0.0</td>\n",
       "      <td>0.0</td>\n",
       "      <td>0.0</td>\n",
       "      <td>0.0</td>\n",
       "      <td>0.0</td>\n",
       "      <td>0.0</td>\n",
       "      <td>0.000000</td>\n",
       "      <td>0.304823</td>\n",
       "      <td>1</td>\n",
       "      <td>13</td>\n",
       "    </tr>\n",
       "    <tr>\n",
       "      <th>1670</th>\n",
       "      <td>0.0</td>\n",
       "      <td>0.0</td>\n",
       "      <td>0.0</td>\n",
       "      <td>0.0</td>\n",
       "      <td>0.000000</td>\n",
       "      <td>0.0</td>\n",
       "      <td>0.0</td>\n",
       "      <td>0.0</td>\n",
       "      <td>0.0</td>\n",
       "      <td>0.0</td>\n",
       "      <td>...</td>\n",
       "      <td>0.0</td>\n",
       "      <td>0.0</td>\n",
       "      <td>0.0</td>\n",
       "      <td>0.0</td>\n",
       "      <td>0.0</td>\n",
       "      <td>0.0</td>\n",
       "      <td>0.000000</td>\n",
       "      <td>0.000000</td>\n",
       "      <td>1</td>\n",
       "      <td>19</td>\n",
       "    </tr>\n",
       "  </tbody>\n",
       "</table>\n",
       "<p>1671 rows × 2219 columns</p>\n",
       "</div>"
      ],
      "text/plain": [
       "        0    1    2    3         4    5    6    7    8    9  ...  2209  2210  \\\n",
       "0     0.0  0.0  0.0  0.0  0.682697  0.0  0.0  0.0  0.0  0.0  ...   0.0   0.0   \n",
       "1     0.0  0.0  0.0  0.0  0.000000  0.0  0.0  0.0  0.0  0.0  ...   0.0   0.0   \n",
       "2     0.0  0.0  0.0  0.0  0.000000  0.0  0.0  0.0  0.0  0.0  ...   0.0   0.0   \n",
       "3     0.0  0.0  0.0  0.0  0.000000  0.0  0.0  0.0  0.0  0.0  ...   0.0   0.0   \n",
       "4     0.0  0.0  0.0  0.0  0.000000  0.0  0.0  0.0  0.0  0.0  ...   0.0   0.0   \n",
       "...   ...  ...  ...  ...       ...  ...  ...  ...  ...  ...  ...   ...   ...   \n",
       "1666  0.0  0.0  0.0  0.0  0.000000  0.0  0.0  0.0  0.0  0.0  ...   0.0   0.0   \n",
       "1667  0.0  0.0  0.0  0.0  0.000000  0.0  0.0  0.0  0.0  0.0  ...   0.0   0.0   \n",
       "1668  0.0  0.0  0.0  0.0  0.000000  0.0  0.0  0.0  0.0  0.0  ...   0.0   0.0   \n",
       "1669  0.0  0.0  0.0  0.0  0.000000  0.0  0.0  0.0  0.0  0.0  ...   0.0   0.0   \n",
       "1670  0.0  0.0  0.0  0.0  0.000000  0.0  0.0  0.0  0.0  0.0  ...   0.0   0.0   \n",
       "\n",
       "      2211  2212  2213  2214      2215      2216  role  story_point  \n",
       "0      0.0   0.0   0.0   0.0  0.000000  0.000000    52            9  \n",
       "1      0.0   0.0   0.0   0.0  0.000000  0.000000    17            5  \n",
       "2      0.0   0.0   0.0   0.0  0.000000  0.000000    17            8  \n",
       "3      0.0   0.0   0.0   0.0  0.000000  0.000000    17            5  \n",
       "4      0.0   0.0   0.0   0.0  0.000000  0.000000    17            8  \n",
       "...    ...   ...   ...   ...       ...       ...   ...          ...  \n",
       "1666   0.0   0.0   0.0   0.0  0.511533  0.355934     1           17  \n",
       "1667   0.0   0.0   0.0   0.0  0.506680  0.352557     1           22  \n",
       "1668   0.0   0.0   0.0   0.0  0.000000  0.429315     1           15  \n",
       "1669   0.0   0.0   0.0   0.0  0.000000  0.304823     1           13  \n",
       "1670   0.0   0.0   0.0   0.0  0.000000  0.000000     1           19  \n",
       "\n",
       "[1671 rows x 2219 columns]"
      ]
     },
     "execution_count": 18,
     "metadata": {},
     "output_type": "execute_result"
    }
   ],
   "source": [
    "df_TFIDF"
   ]
  },
  {
   "cell_type": "markdown",
   "id": "4396fbd9",
   "metadata": {},
   "source": [
    "## Train Test Splitting "
   ]
  },
  {
   "cell_type": "code",
   "execution_count": 19,
   "id": "24bf2b67",
   "metadata": {},
   "outputs": [],
   "source": [
    "# We make different sets for training and testing\n",
    "from sklearn.model_selection import train_test_split\n"
   ]
  },
  {
   "cell_type": "code",
   "execution_count": 20,
   "id": "e77655db",
   "metadata": {},
   "outputs": [],
   "source": [
    "X=df_TFIDF.iloc[:,:-1]\n",
    "y=df_TFIDF.iloc[:,-1]"
   ]
  },
  {
   "cell_type": "code",
   "execution_count": 21,
   "id": "66eecf68",
   "metadata": {},
   "outputs": [],
   "source": [
    "X_train,X_test,y_train,y_test=train_test_split(X,y,test_size=0.2,random_state=42)"
   ]
  },
  {
   "cell_type": "code",
   "execution_count": 22,
   "id": "8db10bc4",
   "metadata": {},
   "outputs": [
    {
     "data": {
      "text/plain": [
       "((1336, 2218), (335, 2218), (1336,), (335,))"
      ]
     },
     "execution_count": 22,
     "metadata": {},
     "output_type": "execute_result"
    }
   ],
   "source": [
    "X_train.shape,X_test.shape,y_train.shape,y_test.shape"
   ]
  },
  {
   "cell_type": "markdown",
   "id": "37ddf061",
   "metadata": {},
   "source": [
    "## Training the Model"
   ]
  },
  {
   "cell_type": "markdown",
   "id": "44303132",
   "metadata": {},
   "source": [
    "### 1. Using SVM"
   ]
  },
  {
   "cell_type": "code",
   "execution_count": 23,
   "id": "323b3c94",
   "metadata": {},
   "outputs": [],
   "source": [
    "# We will try Support vector machine regressor to train the model\n",
    "from sklearn.svm import SVR\n",
    "svr=SVR()"
   ]
  },
  {
   "cell_type": "code",
   "execution_count": 24,
   "id": "118e86b4",
   "metadata": {},
   "outputs": [
    {
     "data": {
      "text/plain": [
       "SVR()"
      ]
     },
     "execution_count": 24,
     "metadata": {},
     "output_type": "execute_result"
    }
   ],
   "source": [
    "svr.fit(X_train,y_train)"
   ]
  },
  {
   "cell_type": "code",
   "execution_count": 25,
   "id": "4e341a81",
   "metadata": {},
   "outputs": [],
   "source": [
    "y_pred=svr.predict(X_test)"
   ]
  },
  {
   "cell_type": "code",
   "execution_count": 26,
   "id": "c1f7287a",
   "metadata": {},
   "outputs": [],
   "source": [
    "y_pred=y_pred.astype('int8')"
   ]
  },
  {
   "cell_type": "markdown",
   "id": "92e0e9d4",
   "metadata": {},
   "source": [
    "#### Checking Accuracy"
   ]
  },
  {
   "cell_type": "code",
   "execution_count": 27,
   "id": "0caf38d2",
   "metadata": {},
   "outputs": [],
   "source": [
    "from sklearn.metrics import r2_score\n"
   ]
  },
  {
   "cell_type": "code",
   "execution_count": 28,
   "id": "ee3c85fb",
   "metadata": {},
   "outputs": [],
   "source": [
    "svr_score=r2_score(y_test,y_pred)"
   ]
  },
  {
   "cell_type": "code",
   "execution_count": 29,
   "id": "c9b0b616",
   "metadata": {},
   "outputs": [
    {
     "data": {
      "text/plain": [
       "0.6486637273734805"
      ]
     },
     "execution_count": 29,
     "metadata": {},
     "output_type": "execute_result"
    }
   ],
   "source": [
    "svr_score"
   ]
  },
  {
   "cell_type": "markdown",
   "id": "8e49952d",
   "metadata": {},
   "source": [
    "### 2. Using Random Forest Regressor"
   ]
  },
  {
   "cell_type": "code",
   "execution_count": 30,
   "id": "3eb7f790",
   "metadata": {},
   "outputs": [],
   "source": [
    "# We will try Rf Regressor \n",
    "from sklearn.ensemble import RandomForestRegressor"
   ]
  },
  {
   "cell_type": "code",
   "execution_count": 31,
   "id": "9c318dae",
   "metadata": {},
   "outputs": [],
   "source": [
    "rfr=RandomForestRegressor(n_estimators=500)"
   ]
  },
  {
   "cell_type": "code",
   "execution_count": 32,
   "id": "204d7fd9",
   "metadata": {},
   "outputs": [
    {
     "data": {
      "text/plain": [
       "RandomForestRegressor(n_estimators=500)"
      ]
     },
     "execution_count": 32,
     "metadata": {},
     "output_type": "execute_result"
    }
   ],
   "source": [
    "rfr.fit(X_train,y_train)"
   ]
  },
  {
   "cell_type": "code",
   "execution_count": 33,
   "id": "172ceb00",
   "metadata": {},
   "outputs": [],
   "source": [
    "y_pred=rfr.predict(X_test)"
   ]
  },
  {
   "cell_type": "code",
   "execution_count": 34,
   "id": "ef0890b9",
   "metadata": {},
   "outputs": [
    {
     "data": {
      "text/plain": [
       "0.7724900543429108"
      ]
     },
     "execution_count": 34,
     "metadata": {},
     "output_type": "execute_result"
    }
   ],
   "source": [
    "# Check Accuracy\n",
    "rfr_score=r2_score(y_test,y_pred)\n",
    "rfr_score"
   ]
  },
  {
   "cell_type": "markdown",
   "id": "d14528cf",
   "metadata": {},
   "source": [
    "## Our Accuracy :\n",
    "1. Using SVR 64.8%\n",
    "2. Using RFR 77.8%"
   ]
  },
  {
   "cell_type": "markdown",
   "id": "018831ac",
   "metadata": {},
   "source": [
    "### We can do Following to improve accuracy of the model:\n",
    "1. Use other Vectorization Technique Like CBOW, Word2Vec, Doc2Vec, BERT etc.\n",
    "2. Can Do custome feature creation in our dataframe\n",
    "3. Use different ML Algorithm Gaussian Naive Bayes, Linear Regression, MultiVariate Regression, Lasso Regression etc\n",
    "4. Can go for Deep Learning Methods if we have enough data"
   ]
  },
  {
   "cell_type": "markdown",
   "id": "4863b06d",
   "metadata": {},
   "source": [
    "# Preserving the model\n",
    "### We can preserve both the model for prediction"
   ]
  },
  {
   "cell_type": "code",
   "execution_count": 35,
   "id": "8b0e4885",
   "metadata": {},
   "outputs": [],
   "source": [
    "f=open('svr.model','wb')\n",
    "pickle.dump(svr,f)\n",
    "f.close()"
   ]
  },
  {
   "cell_type": "code",
   "execution_count": 36,
   "id": "9a71a46e",
   "metadata": {},
   "outputs": [],
   "source": [
    "k=open('rfr.model','wb')\n",
    "pickle.dump(rfr,k)\n",
    "k.close()"
   ]
  },
  {
   "cell_type": "code",
   "execution_count": null,
   "id": "0574428a",
   "metadata": {},
   "outputs": [],
   "source": []
  }
 ],
 "metadata": {
  "kernelspec": {
   "display_name": "Python 3 (ipykernel)",
   "language": "python",
   "name": "python3"
  },
  "language_info": {
   "codemirror_mode": {
    "name": "ipython",
    "version": 3
   },
   "file_extension": ".py",
   "mimetype": "text/x-python",
   "name": "python",
   "nbconvert_exporter": "python",
   "pygments_lexer": "ipython3",
   "version": "3.9.4"
  }
 },
 "nbformat": 4,
 "nbformat_minor": 5
}
