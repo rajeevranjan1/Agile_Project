{
 "cells": [
  {
   "cell_type": "markdown",
   "id": "3a87297a",
   "metadata": {},
   "source": [
    "# Here we will give our story as input to predict the story point for it"
   ]
  },
  {
   "cell_type": "code",
   "execution_count": 1,
   "id": "796d5da6",
   "metadata": {},
   "outputs": [],
   "source": [
    "# Standard imports\n",
    "import pandas as pd\n",
    "import numpy as np\n",
    "import pickle"
   ]
  },
  {
   "cell_type": "code",
   "execution_count": 2,
   "id": "ceebd786",
   "metadata": {},
   "outputs": [],
   "source": [
    "# Suppose this is our input story\n",
    "story=\"As a Data Engineet I want to look for all the null values and clean them\""
   ]
  },
  {
   "cell_type": "markdown",
   "id": "e39ba30b",
   "metadata": {},
   "source": [
    "## Preprocessing"
   ]
  },
  {
   "cell_type": "code",
   "execution_count": 3,
   "id": "3efb906f",
   "metadata": {},
   "outputs": [],
   "source": [
    "# Lower Casing, Stopwords removal, Tokenization, Stemming\n",
    "story=story.lower()\n",
    "from nltk.corpus import stopwords\n",
    "sw=stopwords.words('english')"
   ]
  },
  {
   "cell_type": "code",
   "execution_count": 4,
   "id": "b97d8f8f",
   "metadata": {},
   "outputs": [],
   "source": [
    "def remove_stopwords(text):\n",
    "    doc=[]\n",
    "    for word in text.split():\n",
    "        if word not in sw:\n",
    "            doc.append(word)\n",
    "    return ' '.join(doc)\n"
   ]
  },
  {
   "cell_type": "code",
   "execution_count": 5,
   "id": "a4639426",
   "metadata": {},
   "outputs": [],
   "source": [
    "story=remove_stopwords(story)"
   ]
  },
  {
   "cell_type": "code",
   "execution_count": 6,
   "id": "bf58fc58",
   "metadata": {},
   "outputs": [],
   "source": [
    "# Tokenize\n",
    "from nltk.tokenize import word_tokenize\n",
    "story=word_tokenize(story)"
   ]
  },
  {
   "cell_type": "code",
   "execution_count": 7,
   "id": "b7119c57",
   "metadata": {},
   "outputs": [
    {
     "data": {
      "text/plain": [
       "['data', 'engineet', 'want', 'look', 'null', 'values', 'clean']"
      ]
     },
     "execution_count": 7,
     "metadata": {},
     "output_type": "execute_result"
    }
   ],
   "source": [
    "story"
   ]
  },
  {
   "cell_type": "code",
   "execution_count": 8,
   "id": "37e8d634",
   "metadata": {},
   "outputs": [],
   "source": [
    "#Stemming\n",
    "from nltk.stem import PorterStemmer\n",
    "ps=PorterStemmer()\n",
    "story=' '.join(ps.stem(word) for word in story)"
   ]
  },
  {
   "cell_type": "code",
   "execution_count": 9,
   "id": "4736b5ff",
   "metadata": {},
   "outputs": [
    {
     "data": {
      "text/plain": [
       "'data engineet want look null valu clean'"
      ]
     },
     "execution_count": 9,
     "metadata": {},
     "output_type": "execute_result"
    }
   ],
   "source": [
    "story"
   ]
  },
  {
   "cell_type": "code",
   "execution_count": 10,
   "id": "da8e858a",
   "metadata": {},
   "outputs": [],
   "source": [
    "# We need to preprocess the input and\n",
    "# We will need to load the tranformer and model\n",
    "f=open('tfidf_trans.trans','rb')\n",
    "ar_tfidf=pickle.load(f)\n",
    "f.close()\n"
   ]
  },
  {
   "cell_type": "code",
   "execution_count": 11,
   "id": "e4613397",
   "metadata": {},
   "outputs": [],
   "source": [
    "# Load rfr prediction model\n",
    "f=open('rfr.model','rb')\n",
    "rfr_model=pickle.load(f)\n",
    "f.close()"
   ]
  },
  {
   "cell_type": "code",
   "execution_count": 12,
   "id": "d35c7f29",
   "metadata": {},
   "outputs": [],
   "source": [
    "df=pd.DataFrame(columns=['story','role'],index=[0])"
   ]
  },
  {
   "cell_type": "code",
   "execution_count": 13,
   "id": "404f3c73",
   "metadata": {},
   "outputs": [
    {
     "data": {
      "text/html": [
       "<div>\n",
       "<style scoped>\n",
       "    .dataframe tbody tr th:only-of-type {\n",
       "        vertical-align: middle;\n",
       "    }\n",
       "\n",
       "    .dataframe tbody tr th {\n",
       "        vertical-align: top;\n",
       "    }\n",
       "\n",
       "    .dataframe thead th {\n",
       "        text-align: right;\n",
       "    }\n",
       "</style>\n",
       "<table border=\"1\" class=\"dataframe\">\n",
       "  <thead>\n",
       "    <tr style=\"text-align: right;\">\n",
       "      <th></th>\n",
       "      <th>story</th>\n",
       "      <th>role</th>\n",
       "    </tr>\n",
       "  </thead>\n",
       "  <tbody>\n",
       "    <tr>\n",
       "      <th>0</th>\n",
       "      <td>NaN</td>\n",
       "      <td>NaN</td>\n",
       "    </tr>\n",
       "  </tbody>\n",
       "</table>\n",
       "</div>"
      ],
      "text/plain": [
       "  story role\n",
       "0   NaN  NaN"
      ]
     },
     "execution_count": 13,
     "metadata": {},
     "output_type": "execute_result"
    }
   ],
   "source": [
    "df"
   ]
  },
  {
   "cell_type": "code",
   "execution_count": 14,
   "id": "ede9e074",
   "metadata": {},
   "outputs": [],
   "source": [
    "df['story'][0]=story"
   ]
  },
  {
   "cell_type": "code",
   "execution_count": 15,
   "id": "00a40471",
   "metadata": {},
   "outputs": [],
   "source": [
    "df['role']=3"
   ]
  },
  {
   "cell_type": "code",
   "execution_count": 16,
   "id": "af7733cb",
   "metadata": {},
   "outputs": [
    {
     "data": {
      "text/html": [
       "<div>\n",
       "<style scoped>\n",
       "    .dataframe tbody tr th:only-of-type {\n",
       "        vertical-align: middle;\n",
       "    }\n",
       "\n",
       "    .dataframe tbody tr th {\n",
       "        vertical-align: top;\n",
       "    }\n",
       "\n",
       "    .dataframe thead th {\n",
       "        text-align: right;\n",
       "    }\n",
       "</style>\n",
       "<table border=\"1\" class=\"dataframe\">\n",
       "  <thead>\n",
       "    <tr style=\"text-align: right;\">\n",
       "      <th></th>\n",
       "      <th>story</th>\n",
       "      <th>role</th>\n",
       "    </tr>\n",
       "  </thead>\n",
       "  <tbody>\n",
       "    <tr>\n",
       "      <th>0</th>\n",
       "      <td>data engineet want look null valu clean</td>\n",
       "      <td>3</td>\n",
       "    </tr>\n",
       "  </tbody>\n",
       "</table>\n",
       "</div>"
      ],
      "text/plain": [
       "                                     story  role\n",
       "0  data engineet want look null valu clean     3"
      ]
     },
     "execution_count": 16,
     "metadata": {},
     "output_type": "execute_result"
    }
   ],
   "source": [
    "df"
   ]
  },
  {
   "cell_type": "code",
   "execution_count": 17,
   "id": "a294ea28",
   "metadata": {},
   "outputs": [],
   "source": [
    "X_input=ar_tfidf.transform(df['story']).toarray()"
   ]
  },
  {
   "cell_type": "code",
   "execution_count": 18,
   "id": "2acedeec",
   "metadata": {},
   "outputs": [
    {
     "data": {
      "text/plain": [
       "(1, 2217)"
      ]
     },
     "execution_count": 18,
     "metadata": {},
     "output_type": "execute_result"
    }
   ],
   "source": [
    "X_input.shape"
   ]
  },
  {
   "cell_type": "code",
   "execution_count": 19,
   "id": "ed3bf9a5",
   "metadata": {},
   "outputs": [],
   "source": [
    "column_names=[str(i) for i in range(X_input.shape[1])]"
   ]
  },
  {
   "cell_type": "code",
   "execution_count": 20,
   "id": "4220c11c",
   "metadata": {},
   "outputs": [],
   "source": [
    "pred_df=pd.DataFrame(data=X_input,columns=column_names)"
   ]
  },
  {
   "cell_type": "code",
   "execution_count": 21,
   "id": "94341d49",
   "metadata": {},
   "outputs": [],
   "source": [
    "pred_df['role']=df['role']"
   ]
  },
  {
   "cell_type": "code",
   "execution_count": 22,
   "id": "3c660638",
   "metadata": {},
   "outputs": [
    {
     "data": {
      "text/html": [
       "<div>\n",
       "<style scoped>\n",
       "    .dataframe tbody tr th:only-of-type {\n",
       "        vertical-align: middle;\n",
       "    }\n",
       "\n",
       "    .dataframe tbody tr th {\n",
       "        vertical-align: top;\n",
       "    }\n",
       "\n",
       "    .dataframe thead th {\n",
       "        text-align: right;\n",
       "    }\n",
       "</style>\n",
       "<table border=\"1\" class=\"dataframe\">\n",
       "  <thead>\n",
       "    <tr style=\"text-align: right;\">\n",
       "      <th></th>\n",
       "      <th>0</th>\n",
       "      <th>1</th>\n",
       "      <th>2</th>\n",
       "      <th>3</th>\n",
       "      <th>4</th>\n",
       "      <th>5</th>\n",
       "      <th>6</th>\n",
       "      <th>7</th>\n",
       "      <th>8</th>\n",
       "      <th>9</th>\n",
       "      <th>...</th>\n",
       "      <th>2208</th>\n",
       "      <th>2209</th>\n",
       "      <th>2210</th>\n",
       "      <th>2211</th>\n",
       "      <th>2212</th>\n",
       "      <th>2213</th>\n",
       "      <th>2214</th>\n",
       "      <th>2215</th>\n",
       "      <th>2216</th>\n",
       "      <th>role</th>\n",
       "    </tr>\n",
       "  </thead>\n",
       "  <tbody>\n",
       "    <tr>\n",
       "      <th>0</th>\n",
       "      <td>0.0</td>\n",
       "      <td>0.0</td>\n",
       "      <td>0.0</td>\n",
       "      <td>0.0</td>\n",
       "      <td>0.0</td>\n",
       "      <td>0.0</td>\n",
       "      <td>0.0</td>\n",
       "      <td>0.0</td>\n",
       "      <td>0.0</td>\n",
       "      <td>0.0</td>\n",
       "      <td>...</td>\n",
       "      <td>0.0</td>\n",
       "      <td>0.0</td>\n",
       "      <td>0.0</td>\n",
       "      <td>0.0</td>\n",
       "      <td>0.0</td>\n",
       "      <td>0.0</td>\n",
       "      <td>0.0</td>\n",
       "      <td>0.0</td>\n",
       "      <td>0.0</td>\n",
       "      <td>3</td>\n",
       "    </tr>\n",
       "  </tbody>\n",
       "</table>\n",
       "<p>1 rows × 2218 columns</p>\n",
       "</div>"
      ],
      "text/plain": [
       "     0    1    2    3    4    5    6    7    8    9  ...  2208  2209  2210  \\\n",
       "0  0.0  0.0  0.0  0.0  0.0  0.0  0.0  0.0  0.0  0.0  ...   0.0   0.0   0.0   \n",
       "\n",
       "   2211  2212  2213  2214  2215  2216  role  \n",
       "0   0.0   0.0   0.0   0.0   0.0   0.0     3  \n",
       "\n",
       "[1 rows x 2218 columns]"
      ]
     },
     "execution_count": 22,
     "metadata": {},
     "output_type": "execute_result"
    }
   ],
   "source": [
    "pred_df"
   ]
  },
  {
   "cell_type": "code",
   "execution_count": null,
   "id": "dff39210",
   "metadata": {},
   "outputs": [],
   "source": []
  },
  {
   "cell_type": "code",
   "execution_count": null,
   "id": "d9aa92cb",
   "metadata": {},
   "outputs": [],
   "source": []
  },
  {
   "cell_type": "code",
   "execution_count": 23,
   "id": "dc847866",
   "metadata": {},
   "outputs": [],
   "source": [
    "y_pred=rfr_model.predict(pred_df)"
   ]
  },
  {
   "cell_type": "code",
   "execution_count": 24,
   "id": "e51c60f3",
   "metadata": {},
   "outputs": [
    {
     "data": {
      "text/plain": [
       "array([32.612])"
      ]
     },
     "execution_count": 24,
     "metadata": {},
     "output_type": "execute_result"
    }
   ],
   "source": [
    "y_pred"
   ]
  },
  {
   "cell_type": "code",
   "execution_count": null,
   "id": "66d17a68",
   "metadata": {},
   "outputs": [],
   "source": []
  }
 ],
 "metadata": {
  "kernelspec": {
   "display_name": "Python 3 (ipykernel)",
   "language": "python",
   "name": "python3"
  },
  "language_info": {
   "codemirror_mode": {
    "name": "ipython",
    "version": 3
   },
   "file_extension": ".py",
   "mimetype": "text/x-python",
   "name": "python",
   "nbconvert_exporter": "python",
   "pygments_lexer": "ipython3",
   "version": "3.9.4"
  }
 },
 "nbformat": 4,
 "nbformat_minor": 5
}
