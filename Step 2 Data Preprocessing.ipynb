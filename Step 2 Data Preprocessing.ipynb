{
 "cells": [
  {
   "cell_type": "code",
   "execution_count": 1,
   "id": "0ba1b5c2",
   "metadata": {},
   "outputs": [],
   "source": [
    "# Loading the useful data from Step 1\n",
    "import pandas as pd\n",
    "import numpy as np\n",
    "import pickle"
   ]
  },
  {
   "cell_type": "code",
   "execution_count": 2,
   "id": "80bd49eb",
   "metadata": {},
   "outputs": [],
   "source": [
    "f=open('first_df.pkl','rb')\n",
    "df=pickle.load(f)\n",
    "f.close()"
   ]
  },
  {
   "cell_type": "code",
   "execution_count": 3,
   "id": "0b6cb12a",
   "metadata": {},
   "outputs": [
    {
     "data": {
      "text/html": [
       "<div>\n",
       "<style scoped>\n",
       "    .dataframe tbody tr th:only-of-type {\n",
       "        vertical-align: middle;\n",
       "    }\n",
       "\n",
       "    .dataframe tbody tr th {\n",
       "        vertical-align: top;\n",
       "    }\n",
       "\n",
       "    .dataframe thead th {\n",
       "        text-align: right;\n",
       "    }\n",
       "</style>\n",
       "<table border=\"1\" class=\"dataframe\">\n",
       "  <thead>\n",
       "    <tr style=\"text-align: right;\">\n",
       "      <th></th>\n",
       "      <th>story</th>\n",
       "      <th>role</th>\n",
       "      <th>story_point</th>\n",
       "    </tr>\n",
       "  </thead>\n",
       "  <tbody>\n",
       "    <tr>\n",
       "      <th>151</th>\n",
       "      <td>As a Staff member  I want to Send or Post Cita...</td>\n",
       "      <td>staff</td>\n",
       "      <td>12</td>\n",
       "    </tr>\n",
       "    <tr>\n",
       "      <th>454</th>\n",
       "      <td>As a content designer  I want to develop a bet...</td>\n",
       "      <td>designer</td>\n",
       "      <td>6</td>\n",
       "    </tr>\n",
       "  </tbody>\n",
       "</table>\n",
       "</div>"
      ],
      "text/plain": [
       "                                                 story      role  story_point\n",
       "151  As a Staff member  I want to Send or Post Cita...     staff           12\n",
       "454  As a content designer  I want to develop a bet...  designer            6"
      ]
     },
     "execution_count": 3,
     "metadata": {},
     "output_type": "execute_result"
    }
   ],
   "source": [
    "df.sample(2)"
   ]
  },
  {
   "cell_type": "code",
   "execution_count": 4,
   "id": "66703ecf",
   "metadata": {},
   "outputs": [],
   "source": [
    "# Set option to see more of a story \n",
    "pd.set_option('display.max_colwidth',150)"
   ]
  },
  {
   "cell_type": "code",
   "execution_count": 5,
   "id": "98088b54",
   "metadata": {},
   "outputs": [
    {
     "data": {
      "text/html": [
       "<div>\n",
       "<style scoped>\n",
       "    .dataframe tbody tr th:only-of-type {\n",
       "        vertical-align: middle;\n",
       "    }\n",
       "\n",
       "    .dataframe tbody tr th {\n",
       "        vertical-align: top;\n",
       "    }\n",
       "\n",
       "    .dataframe thead th {\n",
       "        text-align: right;\n",
       "    }\n",
       "</style>\n",
       "<table border=\"1\" class=\"dataframe\">\n",
       "  <thead>\n",
       "    <tr style=\"text-align: right;\">\n",
       "      <th></th>\n",
       "      <th>story</th>\n",
       "      <th>role</th>\n",
       "      <th>story_point</th>\n",
       "    </tr>\n",
       "  </thead>\n",
       "  <tbody>\n",
       "    <tr>\n",
       "      <th>1307</th>\n",
       "      <td>As a repository manager  I want to indicate names related to the collection either as creator  source  or subject.</td>\n",
       "      <td>manager</td>\n",
       "      <td>13</td>\n",
       "    </tr>\n",
       "    <tr>\n",
       "      <th>692</th>\n",
       "      <td>As a DigitalRecords Archivist  I want to have a method to add and remove multiple people to deposit groups in specific collections  to set a date ...</td>\n",
       "      <td>archivist</td>\n",
       "      <td>19</td>\n",
       "    </tr>\n",
       "  </tbody>\n",
       "</table>\n",
       "</div>"
      ],
      "text/plain": [
       "                                                                                                                                                      story  \\\n",
       "1307                                    As a repository manager  I want to indicate names related to the collection either as creator  source  or subject.    \n",
       "692   As a DigitalRecords Archivist  I want to have a method to add and remove multiple people to deposit groups in specific collections  to set a date ...   \n",
       "\n",
       "           role  story_point  \n",
       "1307    manager           13  \n",
       "692   archivist           19  "
      ]
     },
     "execution_count": 5,
     "metadata": {},
     "output_type": "execute_result"
    }
   ],
   "source": [
    "df.sample(2)"
   ]
  },
  {
   "cell_type": "code",
   "execution_count": 6,
   "id": "ed17c5e0",
   "metadata": {},
   "outputs": [],
   "source": [
    "# Try to have a glimpse of data through wordclod\n",
    "from wordcloud import WordCloud\n",
    "import matplotlib.pyplot as plt"
   ]
  },
  {
   "cell_type": "code",
   "execution_count": 7,
   "id": "e4adcb7b",
   "metadata": {},
   "outputs": [],
   "source": [
    "# We need to make a big text out of our data frame to generate the wordcloud\n",
    "text=''\n",
    "for i in range(df.shape[0]):\n",
    "    text+=df['story'][i]\n",
    "    "
   ]
  },
  {
   "cell_type": "code",
   "execution_count": 8,
   "id": "82aeed8f",
   "metadata": {},
   "outputs": [
    {
     "data": {
      "text/plain": [
       "216103"
      ]
     },
     "execution_count": 8,
     "metadata": {},
     "output_type": "execute_result"
    }
   ],
   "source": [
    "len(text)"
   ]
  },
  {
   "cell_type": "code",
   "execution_count": 9,
   "id": "abb007c2",
   "metadata": {},
   "outputs": [],
   "source": [
    "wc=WordCloud(width=600,height=300).generate(text)"
   ]
  },
  {
   "cell_type": "code",
   "execution_count": 10,
   "id": "5b04f2de",
   "metadata": {},
   "outputs": [
    {
     "data": {
      "text/plain": [
       "<matplotlib.image.AxesImage at 0x1f21ec49ee0>"
      ]
     },
     "execution_count": 10,
     "metadata": {},
     "output_type": "execute_result"
    },
    {
     "data": {
      "image/png": "[encoded data removed]",
      "text/plain": [
       "<Figure size 432x288 with 1 Axes>"
      ]
     },
     "metadata": {
      "needs_background": "light"
     },
     "output_type": "display_data"
    }
   ],
   "source": [
    "plt.imshow(wc)"
   ]
  },
  {
   "cell_type": "code",
   "execution_count": 11,
   "id": "fec0ddd2",
   "metadata": {},
   "outputs": [
    {
     "data": {
      "text/plain": [
       "<AxesSubplot:xlabel='story_point', ylabel='role'>"
      ]
     },
     "execution_count": 11,
     "metadata": {},
     "output_type": "execute_result"
    },
    {
     "data": {
      "image/png": "[encoded data removed]",
      "text/plain": [
       "<Figure size 720x1152 with 1 Axes>"
      ]
     },
     "metadata": {
      "needs_background": "light"
     },
     "output_type": "display_data"
    }
   ],
   "source": [
    "# Plotting role vs story points\n",
    "import seaborn as sns\n",
    "plt.figure(figsize=(10,16))\n",
    "sns.barplot(y=df['role'],x=df['story_point'])\n"
   ]
  },
  {
   "cell_type": "code",
   "execution_count": 12,
   "id": "b7569ae2",
   "metadata": {},
   "outputs": [
    {
     "name": "stdout",
     "output_type": "stream",
     "text": [
      "<class 'pandas.core.frame.DataFrame'>\n",
      "RangeIndex: 1671 entries, 0 to 1670\n",
      "Data columns (total 3 columns):\n",
      " #   Column       Non-Null Count  Dtype \n",
      "---  ------       --------------  ----- \n",
      " 0   story        1671 non-null   object\n",
      " 1   role         1671 non-null   object\n",
      " 2   story_point  1671 non-null   int64 \n",
      "dtypes: int64(1), object(2)\n",
      "memory usage: 39.3+ KB\n"
     ]
    }
   ],
   "source": [
    "df.info()"
   ]
  },
  {
   "cell_type": "code",
   "execution_count": 13,
   "id": "9bcc64e9",
   "metadata": {},
   "outputs": [],
   "source": [
    "# story_points need not be in int64, its an overkill. int8 is perfect\n",
    "df['story_point']=df['story_point'].astype('int8')"
   ]
  },
  {
   "cell_type": "code",
   "execution_count": 14,
   "id": "ce10ca5a",
   "metadata": {},
   "outputs": [
    {
     "name": "stdout",
     "output_type": "stream",
     "text": [
      "<class 'pandas.core.frame.DataFrame'>\n",
      "RangeIndex: 1671 entries, 0 to 1670\n",
      "Data columns (total 3 columns):\n",
      " #   Column       Non-Null Count  Dtype \n",
      "---  ------       --------------  ----- \n",
      " 0   story        1671 non-null   object\n",
      " 1   role         1671 non-null   object\n",
      " 2   story_point  1671 non-null   int8  \n",
      "dtypes: int8(1), object(2)\n",
      "memory usage: 27.9+ KB\n"
     ]
    }
   ],
   "source": [
    "df.info()"
   ]
  },
  {
   "cell_type": "markdown",
   "id": "d790ed8b",
   "metadata": {},
   "source": [
    "# Preprocessing"
   ]
  },
  {
   "cell_type": "markdown",
   "id": "84a58adc",
   "metadata": {},
   "source": [
    "## 1. cheking for duplicates"
   ]
  },
  {
   "cell_type": "code",
   "execution_count": 15,
   "id": "9ee63e59",
   "metadata": {},
   "outputs": [
    {
     "data": {
      "text/plain": [
       "0"
      ]
     },
     "execution_count": 15,
     "metadata": {},
     "output_type": "execute_result"
    }
   ],
   "source": [
    "df.duplicated().sum()"
   ]
  },
  {
   "cell_type": "markdown",
   "id": "4568ed60",
   "metadata": {},
   "source": [
    "## 2. Check for null Values"
   ]
  },
  {
   "cell_type": "code",
   "execution_count": 16,
   "id": "6e8221be",
   "metadata": {},
   "outputs": [
    {
     "data": {
      "text/plain": [
       "story          0\n",
       "role           0\n",
       "story_point    0\n",
       "dtype: int64"
      ]
     },
     "execution_count": 16,
     "metadata": {},
     "output_type": "execute_result"
    }
   ],
   "source": [
    "df.isnull().sum()"
   ]
  },
  {
   "cell_type": "markdown",
   "id": "d6a07d80",
   "metadata": {},
   "source": [
    "## 3. Lower Casing"
   ]
  },
  {
   "cell_type": "code",
   "execution_count": 17,
   "id": "f0410b27",
   "metadata": {},
   "outputs": [],
   "source": [
    "df['story']=df['story'].str.lower()\n",
    "df['role']=df['role'].str.lower()"
   ]
  },
  {
   "cell_type": "code",
   "execution_count": 18,
   "id": "ba987f1f",
   "metadata": {},
   "outputs": [
    {
     "data": {
      "text/html": [
       "<div>\n",
       "<style scoped>\n",
       "    .dataframe tbody tr th:only-of-type {\n",
       "        vertical-align: middle;\n",
       "    }\n",
       "\n",
       "    .dataframe tbody tr th {\n",
       "        vertical-align: top;\n",
       "    }\n",
       "\n",
       "    .dataframe thead th {\n",
       "        text-align: right;\n",
       "    }\n",
       "</style>\n",
       "<table border=\"1\" class=\"dataframe\">\n",
       "  <thead>\n",
       "    <tr style=\"text-align: right;\">\n",
       "      <th></th>\n",
       "      <th>story</th>\n",
       "      <th>role</th>\n",
       "      <th>story_point</th>\n",
       "    </tr>\n",
       "  </thead>\n",
       "  <tbody>\n",
       "    <tr>\n",
       "      <th>0</th>\n",
       "      <td>as a data user  i want to have the 12-19-2017 deletions processed.</td>\n",
       "      <td>user</td>\n",
       "      <td>9</td>\n",
       "    </tr>\n",
       "    <tr>\n",
       "      <th>1</th>\n",
       "      <td>as a ui designer  i want to redesign the resources page  so that it matches the new broker design styles.</td>\n",
       "      <td>designer</td>\n",
       "      <td>5</td>\n",
       "    </tr>\n",
       "  </tbody>\n",
       "</table>\n",
       "</div>"
      ],
      "text/plain": [
       "                                                                                                       story  \\\n",
       "0                                         as a data user  i want to have the 12-19-2017 deletions processed.   \n",
       "1  as a ui designer  i want to redesign the resources page  so that it matches the new broker design styles.   \n",
       "\n",
       "       role  story_point  \n",
       "0      user            9  \n",
       "1  designer            5  "
      ]
     },
     "execution_count": 18,
     "metadata": {},
     "output_type": "execute_result"
    }
   ],
   "source": [
    "df.head(2)"
   ]
  },
  {
   "cell_type": "code",
   "execution_count": 19,
   "id": "d9b2805f",
   "metadata": {},
   "outputs": [
    {
     "data": {
      "text/html": [
       "<div>\n",
       "<style scoped>\n",
       "    .dataframe tbody tr th:only-of-type {\n",
       "        vertical-align: middle;\n",
       "    }\n",
       "\n",
       "    .dataframe tbody tr th {\n",
       "        vertical-align: top;\n",
       "    }\n",
       "\n",
       "    .dataframe thead th {\n",
       "        text-align: right;\n",
       "    }\n",
       "</style>\n",
       "<table border=\"1\" class=\"dataframe\">\n",
       "  <thead>\n",
       "    <tr style=\"text-align: right;\">\n",
       "      <th></th>\n",
       "      <th>story</th>\n",
       "      <th>role</th>\n",
       "      <th>story_point</th>\n",
       "    </tr>\n",
       "  </thead>\n",
       "  <tbody>\n",
       "  </tbody>\n",
       "</table>\n",
       "</div>"
      ],
      "text/plain": [
       "Empty DataFrame\n",
       "Columns: [story, role, story_point]\n",
       "Index: []"
      ]
     },
     "execution_count": 19,
     "metadata": {},
     "output_type": "execute_result"
    }
   ],
   "source": [
    "# Check for HTML Tags\n",
    "df[df['story'].str.find('<') != -1]"
   ]
  },
  {
   "cell_type": "code",
   "execution_count": 20,
   "id": "870932e1",
   "metadata": {},
   "outputs": [
    {
     "data": {
      "text/html": [
       "<div>\n",
       "<style scoped>\n",
       "    .dataframe tbody tr th:only-of-type {\n",
       "        vertical-align: middle;\n",
       "    }\n",
       "\n",
       "    .dataframe tbody tr th {\n",
       "        vertical-align: top;\n",
       "    }\n",
       "\n",
       "    .dataframe thead th {\n",
       "        text-align: right;\n",
       "    }\n",
       "</style>\n",
       "<table border=\"1\" class=\"dataframe\">\n",
       "  <thead>\n",
       "    <tr style=\"text-align: right;\">\n",
       "      <th></th>\n",
       "      <th>story</th>\n",
       "      <th>role</th>\n",
       "      <th>story_point</th>\n",
       "    </tr>\n",
       "  </thead>\n",
       "  <tbody>\n",
       "    <tr>\n",
       "      <th>296</th>\n",
       "      <td>as a researcher  i want an integration with https://data.mendeley.com/  so that i can validate my data upon ingest to the service.</td>\n",
       "      <td>researcher</td>\n",
       "      <td>15</td>\n",
       "    </tr>\n",
       "  </tbody>\n",
       "</table>\n",
       "</div>"
      ],
      "text/plain": [
       "                                                                                                                                  story  \\\n",
       "296  as a researcher  i want an integration with https://data.mendeley.com/  so that i can validate my data upon ingest to the service.   \n",
       "\n",
       "           role  story_point  \n",
       "296  researcher           15  "
      ]
     },
     "execution_count": 20,
     "metadata": {},
     "output_type": "execute_result"
    }
   ],
   "source": [
    "# Check for urls\n",
    "df[df['story'].str.find('http') != -1]"
   ]
  },
  {
   "cell_type": "markdown",
   "id": "2078594f",
   "metadata": {},
   "source": [
    "## 4. Removing URLs\n"
   ]
  },
  {
   "cell_type": "code",
   "execution_count": 21,
   "id": "4382ee12",
   "metadata": {},
   "outputs": [],
   "source": [
    "import re\n",
    "def remove_url(text):\n",
    "    ''' To clean any url from a text '''\n",
    "    pattern=re.compile(r'https?://\\S+|www\\.\\S+')\n",
    "    return pattern.sub(r'',text)\n"
   ]
  },
  {
   "cell_type": "code",
   "execution_count": 22,
   "id": "a62441f2",
   "metadata": {},
   "outputs": [],
   "source": [
    "df['story']=df['story'].apply(remove_url)"
   ]
  },
  {
   "cell_type": "code",
   "execution_count": 23,
   "id": "e12a7c0f",
   "metadata": {},
   "outputs": [
    {
     "data": {
      "text/html": [
       "<div>\n",
       "<style scoped>\n",
       "    .dataframe tbody tr th:only-of-type {\n",
       "        vertical-align: middle;\n",
       "    }\n",
       "\n",
       "    .dataframe tbody tr th {\n",
       "        vertical-align: top;\n",
       "    }\n",
       "\n",
       "    .dataframe thead th {\n",
       "        text-align: right;\n",
       "    }\n",
       "</style>\n",
       "<table border=\"1\" class=\"dataframe\">\n",
       "  <thead>\n",
       "    <tr style=\"text-align: right;\">\n",
       "      <th></th>\n",
       "      <th>story</th>\n",
       "      <th>role</th>\n",
       "      <th>story_point</th>\n",
       "    </tr>\n",
       "  </thead>\n",
       "  <tbody>\n",
       "    <tr>\n",
       "      <th>0</th>\n",
       "      <td>as a data user  i want to have the 12-19-2017 deletions processed.</td>\n",
       "      <td>user</td>\n",
       "      <td>9</td>\n",
       "    </tr>\n",
       "    <tr>\n",
       "      <th>1</th>\n",
       "      <td>as a ui designer  i want to redesign the resources page  so that it matches the new broker design styles.</td>\n",
       "      <td>designer</td>\n",
       "      <td>5</td>\n",
       "    </tr>\n",
       "  </tbody>\n",
       "</table>\n",
       "</div>"
      ],
      "text/plain": [
       "                                                                                                       story  \\\n",
       "0                                         as a data user  i want to have the 12-19-2017 deletions processed.   \n",
       "1  as a ui designer  i want to redesign the resources page  so that it matches the new broker design styles.   \n",
       "\n",
       "       role  story_point  \n",
       "0      user            9  \n",
       "1  designer            5  "
      ]
     },
     "execution_count": 23,
     "metadata": {},
     "output_type": "execute_result"
    }
   ],
   "source": [
    "df.head(2)"
   ]
  },
  {
   "cell_type": "markdown",
   "id": "58e8815d",
   "metadata": {},
   "source": [
    "## 5. Removing Punctuations"
   ]
  },
  {
   "cell_type": "code",
   "execution_count": 24,
   "id": "a6cb3ec1",
   "metadata": {},
   "outputs": [
    {
     "data": {
      "text/plain": [
       "'!\"#$%&\\'()*+,-./:;<=>?@[\\\\]^_`{|}~'"
      ]
     },
     "execution_count": 24,
     "metadata": {},
     "output_type": "execute_result"
    }
   ],
   "source": [
    "import string\n",
    "punc=string.punctuation\n",
    "punc"
   ]
  },
  {
   "cell_type": "code",
   "execution_count": 25,
   "id": "b90a7621",
   "metadata": {},
   "outputs": [],
   "source": [
    "def remove_punctuations(text):\n",
    "    for ch in punc:\n",
    "        text=text.replace(ch,'')\n",
    "    return text\n"
   ]
  },
  {
   "cell_type": "code",
   "execution_count": 26,
   "id": "0e7c3c8f",
   "metadata": {},
   "outputs": [
    {
     "data": {
      "text/plain": [
       "'as a data user  i want to have the 12192017 deletions processed'"
      ]
     },
     "execution_count": 26,
     "metadata": {},
     "output_type": "execute_result"
    }
   ],
   "source": [
    "remove_punctuations(df['story'][0])"
   ]
  },
  {
   "cell_type": "code",
   "execution_count": 27,
   "id": "d7b1af62",
   "metadata": {},
   "outputs": [],
   "source": [
    "df['story']=df['story'].apply(remove_punctuations)"
   ]
  },
  {
   "cell_type": "markdown",
   "id": "7263c225",
   "metadata": {},
   "source": [
    "## 6. Removing Stopwords\n",
    "##### Note: Stopwords are words which do not add much meaning to the sentences wrt ML"
   ]
  },
  {
   "cell_type": "code",
   "execution_count": 28,
   "id": "f8ba600e",
   "metadata": {},
   "outputs": [],
   "source": [
    "from nltk.corpus import stopwords\n",
    "sw=stopwords.words('english')"
   ]
  },
  {
   "cell_type": "code",
   "execution_count": 29,
   "id": "0dbbaf74",
   "metadata": {},
   "outputs": [],
   "source": [
    "def remove_stopwords(text):\n",
    "    doc=[]\n",
    "    for word in text.split():\n",
    "        if word not in sw:\n",
    "            doc.append(word)\n",
    "    return ' '.join(doc)\n"
   ]
  },
  {
   "cell_type": "code",
   "execution_count": 30,
   "id": "294ce9ba",
   "metadata": {},
   "outputs": [
    {
     "data": {
      "text/plain": [
       "'data user want 12192017 deletions processed'"
      ]
     },
     "execution_count": 30,
     "metadata": {},
     "output_type": "execute_result"
    }
   ],
   "source": [
    "remove_stopwords(df['story'][0])"
   ]
  },
  {
   "cell_type": "code",
   "execution_count": 31,
   "id": "eb20f32f",
   "metadata": {},
   "outputs": [],
   "source": [
    "df['story']=df['story'].apply(remove_stopwords)"
   ]
  },
  {
   "cell_type": "code",
   "execution_count": 32,
   "id": "b97705f5",
   "metadata": {},
   "outputs": [
    {
     "data": {
      "text/html": [
       "<div>\n",
       "<style scoped>\n",
       "    .dataframe tbody tr th:only-of-type {\n",
       "        vertical-align: middle;\n",
       "    }\n",
       "\n",
       "    .dataframe tbody tr th {\n",
       "        vertical-align: top;\n",
       "    }\n",
       "\n",
       "    .dataframe thead th {\n",
       "        text-align: right;\n",
       "    }\n",
       "</style>\n",
       "<table border=\"1\" class=\"dataframe\">\n",
       "  <thead>\n",
       "    <tr style=\"text-align: right;\">\n",
       "      <th></th>\n",
       "      <th>story</th>\n",
       "      <th>role</th>\n",
       "      <th>story_point</th>\n",
       "    </tr>\n",
       "  </thead>\n",
       "  <tbody>\n",
       "    <tr>\n",
       "      <th>876</th>\n",
       "      <td>researcher want ability attach standard meta data drug responses data later searched understood</td>\n",
       "      <td>researcher</td>\n",
       "      <td>19</td>\n",
       "    </tr>\n",
       "    <tr>\n",
       "      <th>534</th>\n",
       "      <td>parent want able see made necessary payments</td>\n",
       "      <td>parent</td>\n",
       "      <td>1</td>\n",
       "    </tr>\n",
       "    <tr>\n",
       "      <th>662</th>\n",
       "      <td>admin want pricing plan billing system charge users make platform sustainable</td>\n",
       "      <td>admin</td>\n",
       "      <td>23</td>\n",
       "    </tr>\n",
       "    <tr>\n",
       "      <th>657</th>\n",
       "      <td>owner want view people organization roles change want</td>\n",
       "      <td>owner</td>\n",
       "      <td>5</td>\n",
       "    </tr>\n",
       "    <tr>\n",
       "      <th>1032</th>\n",
       "      <td>serious games developer want able take control functions provide desired user experience</td>\n",
       "      <td>developer</td>\n",
       "      <td>8</td>\n",
       "    </tr>\n",
       "  </tbody>\n",
       "</table>\n",
       "</div>"
      ],
      "text/plain": [
       "                                                                                                story  \\\n",
       "876   researcher want ability attach standard meta data drug responses data later searched understood   \n",
       "534                                                      parent want able see made necessary payments   \n",
       "662                     admin want pricing plan billing system charge users make platform sustainable   \n",
       "657                                             owner want view people organization roles change want   \n",
       "1032         serious games developer want able take control functions provide desired user experience   \n",
       "\n",
       "            role  story_point  \n",
       "876   researcher           19  \n",
       "534       parent            1  \n",
       "662        admin           23  \n",
       "657        owner            5  \n",
       "1032   developer            8  "
      ]
     },
     "execution_count": 32,
     "metadata": {},
     "output_type": "execute_result"
    }
   ],
   "source": [
    "df.sample(5)"
   ]
  },
  {
   "cell_type": "markdown",
   "id": "5fda6680",
   "metadata": {},
   "source": [
    "## 7. Tokenization"
   ]
  },
  {
   "cell_type": "code",
   "execution_count": 33,
   "id": "4f0d744b",
   "metadata": {},
   "outputs": [],
   "source": [
    "# Splitting sentences into tokens/words\n",
    "from nltk.tokenize import word_tokenize\n"
   ]
  },
  {
   "cell_type": "code",
   "execution_count": 34,
   "id": "459b4dd1",
   "metadata": {},
   "outputs": [],
   "source": [
    "df['story']=df['story'].apply(lambda x: word_tokenize(x))"
   ]
  },
  {
   "cell_type": "code",
   "execution_count": 35,
   "id": "77516781",
   "metadata": {},
   "outputs": [
    {
     "data": {
      "text/html": [
       "<div>\n",
       "<style scoped>\n",
       "    .dataframe tbody tr th:only-of-type {\n",
       "        vertical-align: middle;\n",
       "    }\n",
       "\n",
       "    .dataframe tbody tr th {\n",
       "        vertical-align: top;\n",
       "    }\n",
       "\n",
       "    .dataframe thead th {\n",
       "        text-align: right;\n",
       "    }\n",
       "</style>\n",
       "<table border=\"1\" class=\"dataframe\">\n",
       "  <thead>\n",
       "    <tr style=\"text-align: right;\">\n",
       "      <th></th>\n",
       "      <th>story</th>\n",
       "      <th>role</th>\n",
       "      <th>story_point</th>\n",
       "    </tr>\n",
       "  </thead>\n",
       "  <tbody>\n",
       "    <tr>\n",
       "      <th>1318</th>\n",
       "      <td>[repository, manager, want, indicate, copyright, status, object]</td>\n",
       "      <td>manager</td>\n",
       "      <td>10</td>\n",
       "    </tr>\n",
       "    <tr>\n",
       "      <th>1586</th>\n",
       "      <td>[dbir, administrator, want, unpublish, reportdataset, requested, usda, agency]</td>\n",
       "      <td>admin</td>\n",
       "      <td>19</td>\n",
       "    </tr>\n",
       "  </tbody>\n",
       "</table>\n",
       "</div>"
      ],
      "text/plain": [
       "                                                                               story  \\\n",
       "1318                [repository, manager, want, indicate, copyright, status, object]   \n",
       "1586  [dbir, administrator, want, unpublish, reportdataset, requested, usda, agency]   \n",
       "\n",
       "         role  story_point  \n",
       "1318  manager           10  \n",
       "1586    admin           19  "
      ]
     },
     "execution_count": 35,
     "metadata": {},
     "output_type": "execute_result"
    }
   ],
   "source": [
    "df.sample(2)"
   ]
  },
  {
   "cell_type": "markdown",
   "id": "5d7a1633",
   "metadata": {},
   "source": [
    "## 8. Stemming"
   ]
  },
  {
   "cell_type": "code",
   "execution_count": 36,
   "id": "e41c0906",
   "metadata": {},
   "outputs": [],
   "source": [
    "# Stemming is done to bring each words in to their root/base form\n",
    "from nltk.stem import PorterStemmer\n",
    "ps=PorterStemmer()\n"
   ]
  },
  {
   "cell_type": "code",
   "execution_count": 37,
   "id": "d6b26711",
   "metadata": {},
   "outputs": [],
   "source": [
    "df['story']=df['story'].apply(lambda x: ' '.join(ps.stem(word) for word in x))"
   ]
  },
  {
   "cell_type": "code",
   "execution_count": 38,
   "id": "62c15905",
   "metadata": {},
   "outputs": [
    {
     "data": {
      "text/html": [
       "<div>\n",
       "<style scoped>\n",
       "    .dataframe tbody tr th:only-of-type {\n",
       "        vertical-align: middle;\n",
       "    }\n",
       "\n",
       "    .dataframe tbody tr th {\n",
       "        vertical-align: top;\n",
       "    }\n",
       "\n",
       "    .dataframe thead th {\n",
       "        text-align: right;\n",
       "    }\n",
       "</style>\n",
       "<table border=\"1\" class=\"dataframe\">\n",
       "  <thead>\n",
       "    <tr style=\"text-align: right;\">\n",
       "      <th></th>\n",
       "      <th>story</th>\n",
       "      <th>role</th>\n",
       "      <th>story_point</th>\n",
       "    </tr>\n",
       "  </thead>\n",
       "  <tbody>\n",
       "    <tr>\n",
       "      <th>0</th>\n",
       "      <td>data user want 12192017 delet process</td>\n",
       "      <td>user</td>\n",
       "      <td>9</td>\n",
       "    </tr>\n",
       "    <tr>\n",
       "      <th>1</th>\n",
       "      <td>ui design want redesign resourc page match new broker design style</td>\n",
       "      <td>designer</td>\n",
       "      <td>5</td>\n",
       "    </tr>\n",
       "    <tr>\n",
       "      <th>2</th>\n",
       "      <td>ui design want report agenc user test awar contribut make broker better ux</td>\n",
       "      <td>designer</td>\n",
       "      <td>8</td>\n",
       "    </tr>\n",
       "    <tr>\n",
       "      <th>3</th>\n",
       "      <td>ui design want move round 2 dab fab land page edit get approv leadership</td>\n",
       "      <td>designer</td>\n",
       "      <td>5</td>\n",
       "    </tr>\n",
       "    <tr>\n",
       "      <th>4</th>\n",
       "      <td>ui design want move round 2 homepag edit get approv leadership</td>\n",
       "      <td>designer</td>\n",
       "      <td>8</td>\n",
       "    </tr>\n",
       "    <tr>\n",
       "      <th>...</th>\n",
       "      <td>...</td>\n",
       "      <td>...</td>\n",
       "      <td>...</td>\n",
       "    </tr>\n",
       "    <tr>\n",
       "      <th>1666</th>\n",
       "      <td>zoonivers admin want know zoonibot give explan</td>\n",
       "      <td>admin</td>\n",
       "      <td>17</td>\n",
       "    </tr>\n",
       "    <tr>\n",
       "      <th>1667</th>\n",
       "      <td>zoonivers admin want know zoonibot say volunt</td>\n",
       "      <td>admin</td>\n",
       "      <td>22</td>\n",
       "    </tr>\n",
       "    <tr>\n",
       "      <th>1668</th>\n",
       "      <td>zoonivers admin want group subject similar</td>\n",
       "      <td>admin</td>\n",
       "      <td>15</td>\n",
       "    </tr>\n",
       "    <tr>\n",
       "      <th>1669</th>\n",
       "      <td>zoonivers admin want recommend differ project volunt base previou experi</td>\n",
       "      <td>admin</td>\n",
       "      <td>13</td>\n",
       "    </tr>\n",
       "    <tr>\n",
       "      <th>1670</th>\n",
       "      <td>admin want see summari articl reus</td>\n",
       "      <td>admin</td>\n",
       "      <td>19</td>\n",
       "    </tr>\n",
       "  </tbody>\n",
       "</table>\n",
       "<p>1671 rows × 3 columns</p>\n",
       "</div>"
      ],
      "text/plain": [
       "                                                                           story  \\\n",
       "0                                          data user want 12192017 delet process   \n",
       "1             ui design want redesign resourc page match new broker design style   \n",
       "2     ui design want report agenc user test awar contribut make broker better ux   \n",
       "3       ui design want move round 2 dab fab land page edit get approv leadership   \n",
       "4                 ui design want move round 2 homepag edit get approv leadership   \n",
       "...                                                                          ...   \n",
       "1666                              zoonivers admin want know zoonibot give explan   \n",
       "1667                               zoonivers admin want know zoonibot say volunt   \n",
       "1668                                  zoonivers admin want group subject similar   \n",
       "1669    zoonivers admin want recommend differ project volunt base previou experi   \n",
       "1670                                          admin want see summari articl reus   \n",
       "\n",
       "          role  story_point  \n",
       "0         user            9  \n",
       "1     designer            5  \n",
       "2     designer            8  \n",
       "3     designer            5  \n",
       "4     designer            8  \n",
       "...        ...          ...  \n",
       "1666     admin           17  \n",
       "1667     admin           22  \n",
       "1668     admin           15  \n",
       "1669     admin           13  \n",
       "1670     admin           19  \n",
       "\n",
       "[1671 rows x 3 columns]"
      ]
     },
     "execution_count": 38,
     "metadata": {},
     "output_type": "execute_result"
    }
   ],
   "source": [
    "df"
   ]
  },
  {
   "cell_type": "markdown",
   "id": "92e29fab",
   "metadata": {},
   "source": [
    "### Here most of the steps for Text Preprocessing is complete.\n",
    "### We can now pickle the pre-processed data for Step 3 i.e. Vectorization and Training"
   ]
  },
  {
   "cell_type": "code",
   "execution_count": 39,
   "id": "16bc6c52",
   "metadata": {},
   "outputs": [],
   "source": [
    "f=open('preprocessed_data.pkl','wb')\n",
    "pickle.dump(df,f)\n",
    "f.close()"
   ]
  },
  {
   "cell_type": "code",
   "execution_count": 40,
   "id": "4d9217b0",
   "metadata": {},
   "outputs": [],
   "source": [
    "# Check for proper pickling\n",
    "k=open('preprocessed_data.pkl','rb')\n",
    "pdf=pickle.load(k)\n",
    "k.close()"
   ]
  },
  {
   "cell_type": "code",
   "execution_count": 41,
   "id": "df6dfdd8",
   "metadata": {},
   "outputs": [
    {
     "data": {
      "text/html": [
       "<div>\n",
       "<style scoped>\n",
       "    .dataframe tbody tr th:only-of-type {\n",
       "        vertical-align: middle;\n",
       "    }\n",
       "\n",
       "    .dataframe tbody tr th {\n",
       "        vertical-align: top;\n",
       "    }\n",
       "\n",
       "    .dataframe thead th {\n",
       "        text-align: right;\n",
       "    }\n",
       "</style>\n",
       "<table border=\"1\" class=\"dataframe\">\n",
       "  <thead>\n",
       "    <tr style=\"text-align: right;\">\n",
       "      <th></th>\n",
       "      <th>story</th>\n",
       "      <th>role</th>\n",
       "      <th>story_point</th>\n",
       "    </tr>\n",
       "  </thead>\n",
       "  <tbody>\n",
       "    <tr>\n",
       "      <th>0</th>\n",
       "      <td>data user want 12192017 delet process</td>\n",
       "      <td>user</td>\n",
       "      <td>9</td>\n",
       "    </tr>\n",
       "    <tr>\n",
       "      <th>1</th>\n",
       "      <td>ui design want redesign resourc page match new broker design style</td>\n",
       "      <td>designer</td>\n",
       "      <td>5</td>\n",
       "    </tr>\n",
       "    <tr>\n",
       "      <th>2</th>\n",
       "      <td>ui design want report agenc user test awar contribut make broker better ux</td>\n",
       "      <td>designer</td>\n",
       "      <td>8</td>\n",
       "    </tr>\n",
       "    <tr>\n",
       "      <th>3</th>\n",
       "      <td>ui design want move round 2 dab fab land page edit get approv leadership</td>\n",
       "      <td>designer</td>\n",
       "      <td>5</td>\n",
       "    </tr>\n",
       "    <tr>\n",
       "      <th>4</th>\n",
       "      <td>ui design want move round 2 homepag edit get approv leadership</td>\n",
       "      <td>designer</td>\n",
       "      <td>8</td>\n",
       "    </tr>\n",
       "    <tr>\n",
       "      <th>...</th>\n",
       "      <td>...</td>\n",
       "      <td>...</td>\n",
       "      <td>...</td>\n",
       "    </tr>\n",
       "    <tr>\n",
       "      <th>1666</th>\n",
       "      <td>zoonivers admin want know zoonibot give explan</td>\n",
       "      <td>admin</td>\n",
       "      <td>17</td>\n",
       "    </tr>\n",
       "    <tr>\n",
       "      <th>1667</th>\n",
       "      <td>zoonivers admin want know zoonibot say volunt</td>\n",
       "      <td>admin</td>\n",
       "      <td>22</td>\n",
       "    </tr>\n",
       "    <tr>\n",
       "      <th>1668</th>\n",
       "      <td>zoonivers admin want group subject similar</td>\n",
       "      <td>admin</td>\n",
       "      <td>15</td>\n",
       "    </tr>\n",
       "    <tr>\n",
       "      <th>1669</th>\n",
       "      <td>zoonivers admin want recommend differ project volunt base previou experi</td>\n",
       "      <td>admin</td>\n",
       "      <td>13</td>\n",
       "    </tr>\n",
       "    <tr>\n",
       "      <th>1670</th>\n",
       "      <td>admin want see summari articl reus</td>\n",
       "      <td>admin</td>\n",
       "      <td>19</td>\n",
       "    </tr>\n",
       "  </tbody>\n",
       "</table>\n",
       "<p>1671 rows × 3 columns</p>\n",
       "</div>"
      ],
      "text/plain": [
       "                                                                           story  \\\n",
       "0                                          data user want 12192017 delet process   \n",
       "1             ui design want redesign resourc page match new broker design style   \n",
       "2     ui design want report agenc user test awar contribut make broker better ux   \n",
       "3       ui design want move round 2 dab fab land page edit get approv leadership   \n",
       "4                 ui design want move round 2 homepag edit get approv leadership   \n",
       "...                                                                          ...   \n",
       "1666                              zoonivers admin want know zoonibot give explan   \n",
       "1667                               zoonivers admin want know zoonibot say volunt   \n",
       "1668                                  zoonivers admin want group subject similar   \n",
       "1669    zoonivers admin want recommend differ project volunt base previou experi   \n",
       "1670                                          admin want see summari articl reus   \n",
       "\n",
       "          role  story_point  \n",
       "0         user            9  \n",
       "1     designer            5  \n",
       "2     designer            8  \n",
       "3     designer            5  \n",
       "4     designer            8  \n",
       "...        ...          ...  \n",
       "1666     admin           17  \n",
       "1667     admin           22  \n",
       "1668     admin           15  \n",
       "1669     admin           13  \n",
       "1670     admin           19  \n",
       "\n",
       "[1671 rows x 3 columns]"
      ]
     },
     "execution_count": 41,
     "metadata": {},
     "output_type": "execute_result"
    }
   ],
   "source": [
    "pdf"
   ]
  },
  {
   "cell_type": "code",
   "execution_count": null,
   "id": "35c1af59",
   "metadata": {},
   "outputs": [],
   "source": []
  },
  {
   "cell_type": "code",
   "execution_count": null,
   "id": "783ba737",
   "metadata": {},
   "outputs": [],
   "source": []
  }
 ],
 "metadata": {
  "kernelspec": {
   "display_name": "Python 3 (ipykernel)",
   "language": "python",
   "name": "python3"
  },
  "language_info": {
   "codemirror_mode": {
    "name": "ipython",
    "version": 3
   },
   "file_extension": ".py",
   "mimetype": "text/x-python",
   "name": "python",
   "nbconvert_exporter": "python",
   "pygments_lexer": "ipython3",
   "version": "3.9.4"
  }
 },
 "nbformat": 4,
 "nbformat_minor": 5
}
