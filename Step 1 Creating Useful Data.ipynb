{
 "cells": [
  {
   "cell_type": "markdown",
   "id": "d8fb8990",
   "metadata": {},
   "source": [
    "# This notebook is for creating useful data frame from raw data\n"
   ]
  },
  {
   "cell_type": "code",
   "execution_count": 1,
   "id": "d61d6711",
   "metadata": {},
   "outputs": [],
   "source": [
    "import pandas as pd\n",
    "import numpy as np\n",
    "import os"
   ]
  },
  {
   "cell_type": "code",
   "execution_count": 2,
   "id": "3259931e",
   "metadata": {},
   "outputs": [],
   "source": [
    "# getting the total data in total_story_data.csv\n",
    "files = os.listdir('Data')\n",
    "f=open('total_story_data.csv','w')\n",
    "for file in files:\n",
    "    path=os.path.join('Data',file)\n",
    "    g=open(path,'r')\n",
    "    data=g.read()\n",
    "    data=data.replace(',',' ')\n",
    "    g.close()\n",
    "    f.write(data)\n",
    "    f.write('\\n')\n",
    "f.close()\n",
    "    "
   ]
  },
  {
   "cell_type": "code",
   "execution_count": 3,
   "id": "7c088a49",
   "metadata": {},
   "outputs": [],
   "source": [
    "# Creating a dataframe\n",
    "df=pd.read_csv('total_story_data.csv',names=['story'],encoding='ANSI')"
   ]
  },
  {
   "cell_type": "code",
   "execution_count": 4,
   "id": "6ef30d19",
   "metadata": {},
   "outputs": [],
   "source": [
    "pd.set_option(\"display.max_colwidth\",100)"
   ]
  },
  {
   "cell_type": "code",
   "execution_count": 5,
   "id": "7334f763",
   "metadata": {},
   "outputs": [
    {
     "data": {
      "text/html": [
       "<div>\n",
       "<style scoped>\n",
       "    .dataframe tbody tr th:only-of-type {\n",
       "        vertical-align: middle;\n",
       "    }\n",
       "\n",
       "    .dataframe tbody tr th {\n",
       "        vertical-align: top;\n",
       "    }\n",
       "\n",
       "    .dataframe thead th {\n",
       "        text-align: right;\n",
       "    }\n",
       "</style>\n",
       "<table border=\"1\" class=\"dataframe\">\n",
       "  <thead>\n",
       "    <tr style=\"text-align: right;\">\n",
       "      <th></th>\n",
       "      <th>story</th>\n",
       "    </tr>\n",
       "  </thead>\n",
       "  <tbody>\n",
       "    <tr>\n",
       "      <th>0</th>\n",
       "      <td>ï»¿As a Data user  I want to have the 12-19-2017 deletions processed.</td>\n",
       "    </tr>\n",
       "    <tr>\n",
       "      <th>1</th>\n",
       "      <td>As a UI designer  I want to redesign the Resources page  so that it matches the new Broker desig...</td>\n",
       "    </tr>\n",
       "  </tbody>\n",
       "</table>\n",
       "</div>"
      ],
      "text/plain": [
       "                                                                                                 story\n",
       "0                                ï»¿As a Data user  I want to have the 12-19-2017 deletions processed.\n",
       "1  As a UI designer  I want to redesign the Resources page  so that it matches the new Broker desig..."
      ]
     },
     "execution_count": 5,
     "metadata": {},
     "output_type": "execute_result"
    }
   ],
   "source": [
    "df.head(2)"
   ]
  },
  {
   "cell_type": "code",
   "execution_count": 6,
   "id": "78e5e0b0",
   "metadata": {},
   "outputs": [],
   "source": [
    "df['story'][0]=df['story'][0][3:]"
   ]
  },
  {
   "cell_type": "code",
   "execution_count": 7,
   "id": "418d6912",
   "metadata": {},
   "outputs": [
    {
     "data": {
      "text/html": [
       "<div>\n",
       "<style scoped>\n",
       "    .dataframe tbody tr th:only-of-type {\n",
       "        vertical-align: middle;\n",
       "    }\n",
       "\n",
       "    .dataframe tbody tr th {\n",
       "        vertical-align: top;\n",
       "    }\n",
       "\n",
       "    .dataframe thead th {\n",
       "        text-align: right;\n",
       "    }\n",
       "</style>\n",
       "<table border=\"1\" class=\"dataframe\">\n",
       "  <thead>\n",
       "    <tr style=\"text-align: right;\">\n",
       "      <th></th>\n",
       "      <th>story</th>\n",
       "    </tr>\n",
       "  </thead>\n",
       "  <tbody>\n",
       "    <tr>\n",
       "      <th>0</th>\n",
       "      <td>As a Data user  I want to have the 12-19-2017 deletions processed.</td>\n",
       "    </tr>\n",
       "    <tr>\n",
       "      <th>1</th>\n",
       "      <td>As a UI designer  I want to redesign the Resources page  so that it matches the new Broker desig...</td>\n",
       "    </tr>\n",
       "    <tr>\n",
       "      <th>2</th>\n",
       "      <td>As a UI designer  I want to report to the Agencies about user testing  so that they are aware of...</td>\n",
       "    </tr>\n",
       "  </tbody>\n",
       "</table>\n",
       "</div>"
      ],
      "text/plain": [
       "                                                                                                 story\n",
       "0                                   As a Data user  I want to have the 12-19-2017 deletions processed.\n",
       "1  As a UI designer  I want to redesign the Resources page  so that it matches the new Broker desig...\n",
       "2  As a UI designer  I want to report to the Agencies about user testing  so that they are aware of..."
      ]
     },
     "execution_count": 7,
     "metadata": {},
     "output_type": "execute_result"
    }
   ],
   "source": [
    "df.head(3)"
   ]
  },
  {
   "cell_type": "code",
   "execution_count": 8,
   "id": "11ab24ee",
   "metadata": {},
   "outputs": [
    {
     "data": {
      "text/html": [
       "<div>\n",
       "<style scoped>\n",
       "    .dataframe tbody tr th:only-of-type {\n",
       "        vertical-align: middle;\n",
       "    }\n",
       "\n",
       "    .dataframe tbody tr th {\n",
       "        vertical-align: top;\n",
       "    }\n",
       "\n",
       "    .dataframe thead th {\n",
       "        text-align: right;\n",
       "    }\n",
       "</style>\n",
       "<table border=\"1\" class=\"dataframe\">\n",
       "  <thead>\n",
       "    <tr style=\"text-align: right;\">\n",
       "      <th></th>\n",
       "      <th>story</th>\n",
       "    </tr>\n",
       "  </thead>\n",
       "  <tbody>\n",
       "    <tr>\n",
       "      <th>10</th>\n",
       "      <td>As a UI designer  I want to move on to round 2 of Homepage edits  so that I can get approvals fr...</td>\n",
       "    </tr>\n",
       "    <tr>\n",
       "      <th>29</th>\n",
       "      <td>As an Agency user  I want to be able to include a large number of flexfields without performance...</td>\n",
       "    </tr>\n",
       "    <tr>\n",
       "      <th>61</th>\n",
       "      <td>As a user  I want to access the raw agency published files from FABS via USAspending.</td>\n",
       "    </tr>\n",
       "    <tr>\n",
       "      <th>143</th>\n",
       "      <td>As an Applicant  I want to Complete Building Development Project  so that I can receive any post...</td>\n",
       "    </tr>\n",
       "    <tr>\n",
       "      <th>549</th>\n",
       "      <td>As a camp worker  I want to be able to see which campers I am in charge of and where  so that I ...</td>\n",
       "    </tr>\n",
       "    <tr>\n",
       "      <th>1616</th>\n",
       "      <td>As a data curator  I want to upload a new version of an item that has changed  while still allow...</td>\n",
       "    </tr>\n",
       "  </tbody>\n",
       "</table>\n",
       "</div>"
      ],
      "text/plain": [
       "                                                                                                    story\n",
       "10    As a UI designer  I want to move on to round 2 of Homepage edits  so that I can get approvals fr...\n",
       "29    As an Agency user  I want to be able to include a large number of flexfields without performance...\n",
       "61                  As a user  I want to access the raw agency published files from FABS via USAspending.\n",
       "143   As an Applicant  I want to Complete Building Development Project  so that I can receive any post...\n",
       "549   As a camp worker  I want to be able to see which campers I am in charge of and where  so that I ...\n",
       "1616  As a data curator  I want to upload a new version of an item that has changed  while still allow..."
      ]
     },
     "execution_count": 8,
     "metadata": {},
     "output_type": "execute_result"
    }
   ],
   "source": [
    "df[df.duplicated()==True]"
   ]
  },
  {
   "cell_type": "code",
   "execution_count": 9,
   "id": "54490abd",
   "metadata": {},
   "outputs": [],
   "source": [
    "df=df.drop_duplicates()"
   ]
  },
  {
   "cell_type": "code",
   "execution_count": 10,
   "id": "0a6a24ae",
   "metadata": {},
   "outputs": [],
   "source": [
    "df=df.reset_index()"
   ]
  },
  {
   "cell_type": "code",
   "execution_count": 11,
   "id": "b3f4c0cc",
   "metadata": {},
   "outputs": [
    {
     "data": {
      "text/plain": [
       "Index(['index', 'story'], dtype='object')"
      ]
     },
     "execution_count": 11,
     "metadata": {},
     "output_type": "execute_result"
    }
   ],
   "source": [
    "df.columns"
   ]
  },
  {
   "cell_type": "code",
   "execution_count": 12,
   "id": "8c9553f8",
   "metadata": {},
   "outputs": [],
   "source": [
    "df=df.drop('index',axis=1)"
   ]
  },
  {
   "cell_type": "code",
   "execution_count": 13,
   "id": "fa30b097",
   "metadata": {},
   "outputs": [
    {
     "data": {
      "text/html": [
       "<div>\n",
       "<style scoped>\n",
       "    .dataframe tbody tr th:only-of-type {\n",
       "        vertical-align: middle;\n",
       "    }\n",
       "\n",
       "    .dataframe tbody tr th {\n",
       "        vertical-align: top;\n",
       "    }\n",
       "\n",
       "    .dataframe thead th {\n",
       "        text-align: right;\n",
       "    }\n",
       "</style>\n",
       "<table border=\"1\" class=\"dataframe\">\n",
       "  <thead>\n",
       "    <tr style=\"text-align: right;\">\n",
       "      <th></th>\n",
       "      <th>story</th>\n",
       "    </tr>\n",
       "  </thead>\n",
       "  <tbody>\n",
       "    <tr>\n",
       "      <th>0</th>\n",
       "      <td>As a Data user  I want to have the 12-19-2017 deletions processed.</td>\n",
       "    </tr>\n",
       "    <tr>\n",
       "      <th>1</th>\n",
       "      <td>As a UI designer  I want to redesign the Resources page  so that it matches the new Broker desig...</td>\n",
       "    </tr>\n",
       "  </tbody>\n",
       "</table>\n",
       "</div>"
      ],
      "text/plain": [
       "                                                                                                 story\n",
       "0                                   As a Data user  I want to have the 12-19-2017 deletions processed.\n",
       "1  As a UI designer  I want to redesign the Resources page  so that it matches the new Broker desig..."
      ]
     },
     "execution_count": 13,
     "metadata": {},
     "output_type": "execute_result"
    }
   ],
   "source": [
    "df.head(2)"
   ]
  },
  {
   "cell_type": "code",
   "execution_count": 14,
   "id": "c7bd287a",
   "metadata": {},
   "outputs": [],
   "source": [
    "# Creating a seperate column for user role\n",
    "import re\n",
    "def get_role(text):\n",
    "    pattern = re.compile(r'As (the|an|a)(\\s+[\\w\\/ ]+)(  I)')\n",
    "    extract=pattern.findall(text)\n",
    "    try:\n",
    "        return extract[0][1].strip()\n",
    "    except:\n",
    "        return 'No match'\n",
    "    \n",
    "    "
   ]
  },
  {
   "cell_type": "code",
   "execution_count": 15,
   "id": "d914bba6",
   "metadata": {},
   "outputs": [],
   "source": [
    "res=get_role(df['story'][8])"
   ]
  },
  {
   "cell_type": "code",
   "execution_count": 16,
   "id": "fca2fd8f",
   "metadata": {},
   "outputs": [
    {
     "data": {
      "text/plain": [
       "'DevOps engineer'"
      ]
     },
     "execution_count": 16,
     "metadata": {},
     "output_type": "execute_result"
    }
   ],
   "source": [
    "res"
   ]
  },
  {
   "cell_type": "code",
   "execution_count": 17,
   "id": "c1bfea69",
   "metadata": {},
   "outputs": [],
   "source": [
    "# Making a new column for role\n",
    "df['role']=df['story'].apply(get_role)"
   ]
  },
  {
   "cell_type": "code",
   "execution_count": 18,
   "id": "2f201a8b",
   "metadata": {},
   "outputs": [
    {
     "data": {
      "text/html": [
       "<div>\n",
       "<style scoped>\n",
       "    .dataframe tbody tr th:only-of-type {\n",
       "        vertical-align: middle;\n",
       "    }\n",
       "\n",
       "    .dataframe tbody tr th {\n",
       "        vertical-align: top;\n",
       "    }\n",
       "\n",
       "    .dataframe thead th {\n",
       "        text-align: right;\n",
       "    }\n",
       "</style>\n",
       "<table border=\"1\" class=\"dataframe\">\n",
       "  <thead>\n",
       "    <tr style=\"text-align: right;\">\n",
       "      <th></th>\n",
       "      <th>story</th>\n",
       "      <th>role</th>\n",
       "    </tr>\n",
       "  </thead>\n",
       "  <tbody>\n",
       "    <tr>\n",
       "      <th>0</th>\n",
       "      <td>As a Data user  I want to have the 12-19-2017 deletions processed.</td>\n",
       "      <td>Data user</td>\n",
       "    </tr>\n",
       "    <tr>\n",
       "      <th>1</th>\n",
       "      <td>As a UI designer  I want to redesign the Resources page  so that it matches the new Broker desig...</td>\n",
       "      <td>UI designer</td>\n",
       "    </tr>\n",
       "  </tbody>\n",
       "</table>\n",
       "</div>"
      ],
      "text/plain": [
       "                                                                                                 story  \\\n",
       "0                                   As a Data user  I want to have the 12-19-2017 deletions processed.   \n",
       "1  As a UI designer  I want to redesign the Resources page  so that it matches the new Broker desig...   \n",
       "\n",
       "          role  \n",
       "0    Data user  \n",
       "1  UI designer  "
      ]
     },
     "execution_count": 18,
     "metadata": {},
     "output_type": "execute_result"
    }
   ],
   "source": [
    "df.head(2)"
   ]
  },
  {
   "cell_type": "code",
   "execution_count": 19,
   "id": "302e12b2",
   "metadata": {},
   "outputs": [
    {
     "data": {
      "text/plain": [
       "(55, 2)"
      ]
     },
     "execution_count": 19,
     "metadata": {},
     "output_type": "execute_result"
    }
   ],
   "source": [
    "# cheking for tabs\n",
    "df[df['story'].str.find('\\t')!=-1].shape"
   ]
  },
  {
   "cell_type": "code",
   "execution_count": 20,
   "id": "0d879660",
   "metadata": {},
   "outputs": [],
   "source": [
    "# removing tabs\n",
    "df['story']=df['story'].apply(lambda x:x.replace('\\t',' '))"
   ]
  },
  {
   "cell_type": "code",
   "execution_count": 21,
   "id": "6d449408",
   "metadata": {},
   "outputs": [
    {
     "data": {
      "text/html": [
       "<div>\n",
       "<style scoped>\n",
       "    .dataframe tbody tr th:only-of-type {\n",
       "        vertical-align: middle;\n",
       "    }\n",
       "\n",
       "    .dataframe tbody tr th {\n",
       "        vertical-align: top;\n",
       "    }\n",
       "\n",
       "    .dataframe thead th {\n",
       "        text-align: right;\n",
       "    }\n",
       "</style>\n",
       "<table border=\"1\" class=\"dataframe\">\n",
       "  <thead>\n",
       "    <tr style=\"text-align: right;\">\n",
       "      <th></th>\n",
       "      <th>story</th>\n",
       "      <th>role</th>\n",
       "    </tr>\n",
       "  </thead>\n",
       "  <tbody>\n",
       "    <tr>\n",
       "      <th>0</th>\n",
       "      <td>As a Data user  I want to have the 12-19-2017 deletions processed.</td>\n",
       "      <td>Data user</td>\n",
       "    </tr>\n",
       "    <tr>\n",
       "      <th>1</th>\n",
       "      <td>As a UI designer  I want to redesign the Resources page  so that it matches the new Broker desig...</td>\n",
       "      <td>UI designer</td>\n",
       "    </tr>\n",
       "  </tbody>\n",
       "</table>\n",
       "</div>"
      ],
      "text/plain": [
       "                                                                                                 story  \\\n",
       "0                                   As a Data user  I want to have the 12-19-2017 deletions processed.   \n",
       "1  As a UI designer  I want to redesign the Resources page  so that it matches the new Broker desig...   \n",
       "\n",
       "          role  \n",
       "0    Data user  \n",
       "1  UI designer  "
      ]
     },
     "execution_count": 21,
     "metadata": {},
     "output_type": "execute_result"
    }
   ],
   "source": [
    "df.head(2)"
   ]
  },
  {
   "cell_type": "code",
   "execution_count": 22,
   "id": "aacb6b04",
   "metadata": {},
   "outputs": [
    {
     "data": {
      "text/plain": [
       "(0, 2)"
      ]
     },
     "execution_count": 22,
     "metadata": {},
     "output_type": "execute_result"
    }
   ],
   "source": [
    "# cheking for tabs\n",
    "df[df['story'].str.find('\\t')!=-1].shape"
   ]
  },
  {
   "cell_type": "code",
   "execution_count": 23,
   "id": "71251315",
   "metadata": {},
   "outputs": [
    {
     "data": {
      "text/plain": [
       "226"
      ]
     },
     "execution_count": 23,
     "metadata": {},
     "output_type": "execute_result"
    }
   ],
   "source": [
    "df['role'].nunique()"
   ]
  },
  {
   "cell_type": "code",
   "execution_count": 24,
   "id": "3f9e2c32",
   "metadata": {},
   "outputs": [
    {
     "data": {
      "text/html": [
       "<div>\n",
       "<style scoped>\n",
       "    .dataframe tbody tr th:only-of-type {\n",
       "        vertical-align: middle;\n",
       "    }\n",
       "\n",
       "    .dataframe tbody tr th {\n",
       "        vertical-align: top;\n",
       "    }\n",
       "\n",
       "    .dataframe thead th {\n",
       "        text-align: right;\n",
       "    }\n",
       "</style>\n",
       "<table border=\"1\" class=\"dataframe\">\n",
       "  <thead>\n",
       "    <tr style=\"text-align: right;\">\n",
       "      <th></th>\n",
       "      <th>story</th>\n",
       "      <th>role</th>\n",
       "    </tr>\n",
       "  </thead>\n",
       "  <tbody>\n",
       "    <tr>\n",
       "      <th>291</th>\n",
       "      <td>As a ResearcherPublisher  I want an integration with Zenodo  so that when I store my dataset in ...</td>\n",
       "      <td>ResearcherPublisher  I want an integration with Zenodo  so that when I store my dataset in GitHub</td>\n",
       "    </tr>\n",
       "    <tr>\n",
       "      <th>295</th>\n",
       "      <td>As a Researcher  working with data in NetCDF  I want NetCDF integration  so that I can store my ...</td>\n",
       "      <td>Researcher  working with data in NetCDF</td>\n",
       "    </tr>\n",
       "    <tr>\n",
       "      <th>374</th>\n",
       "      <td>As a site member who has read a teaser on the front page  I want to read the entire article so t...</td>\n",
       "      <td>site member who has read a teaser on the front page</td>\n",
       "    </tr>\n",
       "    <tr>\n",
       "      <th>463</th>\n",
       "      <td>As an NSF person interested in attending user interviews  I want to know when they are scheduled...</td>\n",
       "      <td>NSF person interested in attending user interviews</td>\n",
       "    </tr>\n",
       "    <tr>\n",
       "      <th>1096</th>\n",
       "      <td>As a authenticateduser  I want to edit my session  so that if I make a mistake  I can correct it.</td>\n",
       "      <td>authenticateduser  I want to edit my session  so that if I make a mistake</td>\n",
       "    </tr>\n",
       "    <tr>\n",
       "      <th>1468</th>\n",
       "      <td>As a researcher  I want to access digitized archival materials without mediation  so that I can ...</td>\n",
       "      <td>researcher  I want to access digitized archival materials without mediation  so that I can decid...</td>\n",
       "    </tr>\n",
       "    <tr>\n",
       "      <th>1570</th>\n",
       "      <td>As an Extension Administrator or Staff Content Manager  I want to get periodic IR reminders  inc...</td>\n",
       "      <td>Extension Administrator or Staff Content Manager</td>\n",
       "    </tr>\n",
       "    <tr>\n",
       "      <th>1594</th>\n",
       "      <td>As an asset manager  I want to be assured that the digital copy I deposit is stored redundantly ...</td>\n",
       "      <td>asset manager  I want to be assured that the digital copy I deposit is stored redundantly  so th...</td>\n",
       "    </tr>\n",
       "  </tbody>\n",
       "</table>\n",
       "</div>"
      ],
      "text/plain": [
       "                                                                                                    story  \\\n",
       "291   As a ResearcherPublisher  I want an integration with Zenodo  so that when I store my dataset in ...   \n",
       "295   As a Researcher  working with data in NetCDF  I want NetCDF integration  so that I can store my ...   \n",
       "374   As a site member who has read a teaser on the front page  I want to read the entire article so t...   \n",
       "463   As an NSF person interested in attending user interviews  I want to know when they are scheduled...   \n",
       "1096    As a authenticateduser  I want to edit my session  so that if I make a mistake  I can correct it.   \n",
       "1468  As a researcher  I want to access digitized archival materials without mediation  so that I can ...   \n",
       "1570  As an Extension Administrator or Staff Content Manager  I want to get periodic IR reminders  inc...   \n",
       "1594  As an asset manager  I want to be assured that the digital copy I deposit is stored redundantly ...   \n",
       "\n",
       "                                                                                                     role  \n",
       "291     ResearcherPublisher  I want an integration with Zenodo  so that when I store my dataset in GitHub  \n",
       "295                                                               Researcher  working with data in NetCDF  \n",
       "374                                                   site member who has read a teaser on the front page  \n",
       "463                                                    NSF person interested in attending user interviews  \n",
       "1096                            authenticateduser  I want to edit my session  so that if I make a mistake  \n",
       "1468  researcher  I want to access digitized archival materials without mediation  so that I can decid...  \n",
       "1570                                                     Extension Administrator or Staff Content Manager  \n",
       "1594  asset manager  I want to be assured that the digital copy I deposit is stored redundantly  so th...  "
      ]
     },
     "execution_count": 24,
     "metadata": {},
     "output_type": "execute_result"
    }
   ],
   "source": [
    "df[df['role'].str.split().str.len()>5]"
   ]
  },
  {
   "cell_type": "code",
   "execution_count": 25,
   "id": "21acd13f",
   "metadata": {},
   "outputs": [],
   "source": [
    "df['role'][291]='ResearcherPublisher'\n",
    "df['role'][295]='Researcher'\n",
    "df['role'][1096]='authenticateduser'\n",
    "df['role'][1468]='Researcher'\n",
    "df['role'][1594]='manager'"
   ]
  },
  {
   "cell_type": "code",
   "execution_count": 26,
   "id": "ff1c372c",
   "metadata": {},
   "outputs": [
    {
     "data": {
      "text/html": [
       "<div>\n",
       "<style scoped>\n",
       "    .dataframe tbody tr th:only-of-type {\n",
       "        vertical-align: middle;\n",
       "    }\n",
       "\n",
       "    .dataframe tbody tr th {\n",
       "        vertical-align: top;\n",
       "    }\n",
       "\n",
       "    .dataframe thead th {\n",
       "        text-align: right;\n",
       "    }\n",
       "</style>\n",
       "<table border=\"1\" class=\"dataframe\">\n",
       "  <thead>\n",
       "    <tr style=\"text-align: right;\">\n",
       "      <th></th>\n",
       "      <th>story</th>\n",
       "      <th>role</th>\n",
       "    </tr>\n",
       "  </thead>\n",
       "  <tbody>\n",
       "    <tr>\n",
       "      <th>294</th>\n",
       "      <td>As a ResearcherDeveloper  would like the ability import/export from MS-SQL  so that I can use Da...</td>\n",
       "      <td>No match</td>\n",
       "    </tr>\n",
       "    <tr>\n",
       "      <th>702</th>\n",
       "      <td>As repository manager  I want to view authenticated  active users and anonymous users.</td>\n",
       "      <td>No match</td>\n",
       "    </tr>\n",
       "    <tr>\n",
       "      <th>730</th>\n",
       "      <td>As a non-Duke researcher  I want to describe my team and mine's objects in the repository after ...</td>\n",
       "      <td>No match</td>\n",
       "    </tr>\n",
       "    <tr>\n",
       "      <th>830</th>\n",
       "      <td>As lab administrator  I want to have increased access to the system to support regular users.</td>\n",
       "      <td>No match</td>\n",
       "    </tr>\n",
       "    <tr>\n",
       "      <th>1276</th>\n",
       "      <td>AS an externalcoordinator  I want to access data from Bath collaborators off campus  so that I c...</td>\n",
       "      <td>No match</td>\n",
       "    </tr>\n",
       "    <tr>\n",
       "      <th>1314</th>\n",
       "      <td>As repository manager  I want to know all the files belonging to an object.</td>\n",
       "      <td>No match</td>\n",
       "    </tr>\n",
       "  </tbody>\n",
       "</table>\n",
       "</div>"
      ],
      "text/plain": [
       "                                                                                                    story  \\\n",
       "294   As a ResearcherDeveloper  would like the ability import/export from MS-SQL  so that I can use Da...   \n",
       "702                As repository manager  I want to view authenticated  active users and anonymous users.   \n",
       "730   As a non-Duke researcher  I want to describe my team and mine's objects in the repository after ...   \n",
       "830        As lab administrator  I want to have increased access to the system to support regular users.    \n",
       "1276  AS an externalcoordinator  I want to access data from Bath collaborators off campus  so that I c...   \n",
       "1314                         As repository manager  I want to know all the files belonging to an object.    \n",
       "\n",
       "          role  \n",
       "294   No match  \n",
       "702   No match  \n",
       "730   No match  \n",
       "830   No match  \n",
       "1276  No match  \n",
       "1314  No match  "
      ]
     },
     "execution_count": 26,
     "metadata": {},
     "output_type": "execute_result"
    }
   ],
   "source": [
    "df[df['role']=='No match']"
   ]
  },
  {
   "cell_type": "code",
   "execution_count": 27,
   "id": "6233a58f",
   "metadata": {},
   "outputs": [],
   "source": [
    "#Manually correcting the roles:\n",
    "df['role'][294]=\"ResearcherDeveloper\"\n",
    "df['role'][702]=\"Repository manager\"\n",
    "df['role'][730]=\"Researcher\"\n",
    "df['role'][830]=\"administrator\"\n",
    "df['role'][1276]=\"externalcoordinator\"\n",
    "df['role'][1314]=\"Repository manager\"\n"
   ]
  },
  {
   "cell_type": "code",
   "execution_count": null,
   "id": "a3b0ff06",
   "metadata": {},
   "outputs": [],
   "source": []
  },
  {
   "cell_type": "code",
   "execution_count": 28,
   "id": "39b0dcf9",
   "metadata": {},
   "outputs": [],
   "source": [
    "# Made a dictionary for assigning similar roles Using existing roles data withnthehelp of excel filtering\n",
    "\n",
    "role_dict={\"Data user\" :\"user\",\n",
    "\"UI designer\" :\"designer\",\n",
    "\"Developer\" :\"developer\",\n",
    "\"Developer\" :\"developer\",\n",
    "\"DevOps engineer\" :\"engineer\",\n",
    "\"UI designer\" :\"designer\",\n",
    "\"Broker user\" :\"user\",\n",
    "\"Website user\" :\"user\",\n",
    "\"owner\" :\"owner\",\n",
    "\"user\" :\"user\",\n",
    "\"Agency user\" :\"user\",\n",
    "\"Owner\" :\"owner\",\n",
    "\"data user\" :\"user\",\n",
    "\"agency user\" :\"user\",\n",
    "\"website user\" :\"user\",\n",
    "\"broker team member\" :\"member\",\n",
    "\"broker user\" :\"user\",\n",
    "\"FABS user\" :\"user\",\n",
    "\"tester\" :\"tester\",\n",
    "\"Public User\" :\"user\",\n",
    "\"ProspectiveApplicant\" :\"applicant\",\n",
    "\"Applicant\" :\"applicant\",\n",
    "\"Customer\" :\"Customer\",\n",
    "\"Staff member\" :\"staff\",\n",
    "\"staff member\" :\"staff\",\n",
    "\"Planning Staff member\" :\"staff\",\n",
    "\"Zoning Staff member\" :\"staff\",\n",
    "\"Plan Review Staff member\" :\"staff\",\n",
    "\"Plan Review Staff Supervisor\" :\"staff\",\n",
    "\"Plan Review Staff Member\" :\"staff\",\n",
    "\"Development Staff member\" :\"staff\",\n",
    "\"Inspection Staff member\" :\"staff\",\n",
    "\"Inspection Staff Supervisor\" :\"staff\",\n",
    "\"Inspection Supervisor\" :\"supervisor\",\n",
    "\"Inspector\" :\"inspector\",\n",
    "\"Enforcement Staff member\" :\"staff\",\n",
    "\"l Staff member\" :\"staff\",\n",
    "\"County Staff Member\" :\"staff\",\n",
    "\"Technical Staff member\" :\"staff\",\n",
    "\"admin\" :\"admin\",\n",
    "\"executive\" :\"executive\",\n",
    "\"employee\" :\"employee\",\n",
    "\"employee from the HR department\" :\"employee\",\n",
    "\"developer\" :\"developer\",\n",
    "\"company\" :\"company\",\n",
    "\"company accountant\" :\"company\",\n",
    "\"superuser\" :\"user\",\n",
    "\"recyclingfacility representative\" :\"representative\",\n",
    "\"recyclingfacility\" :\"representative\",\n",
    "\"Data Publishing User\" :\"user\",\n",
    "\"Platform Administrator\" :\"admin\",\n",
    "\"Data Consuming User\" :\"user\",\n",
    "\"API User\" :\"user\",\n",
    "\"OpenSpending Community Member\" :\"member\",\n",
    "\"User\" :\"user\",\n",
    "\"API user\" :\"user\",\n",
    "\"Platform administrator\" :\"admin\",\n",
    "\"Researcher\" :\"researcher\",\n",
    "\"Publisher\" :\"publisher\",\n",
    "\"ResearcherPublisher\" :\"researcher\",\n",
    "\"Machine Learning expert\" :\"analyst\",\n",
    "\"ResearcherGovernment Publisher\" :\"researcher\",\n",
    "\"Researcher  working with data\" :\"analyst\",\n",
    "\"ResearcherDeveloper\" :\"developer\",\n",
    "\"Researcher  working with data in NetCDF\" :\"analyst\",\n",
    "\"Repository Manager\" :\"manager\",\n",
    "\"publisher\" :\"publisher\",\n",
    "\"DeveloperWrangler\" :\"developer\",\n",
    "\"government Publisher\" :\"publisher\",\n",
    "\"Civic Tech Activist\" :\"activist\",\n",
    "\"DeveloperDataWrangler\" :\"developer\",\n",
    "\"DeveloperPublisher\" :\"developer\",\n",
    "\"RepositoryManagerResearcher\" :\"manager\",\n",
    "\"site member\" :\"member\",\n",
    "\"Practitioner\" :\"analyst\",\n",
    "\"Trainer\" :\"trainer\",\n",
    "\"trainer\" :\"trainer\",\n",
    "\"site administrator\" :\"admin\",\n",
    "\"site visitor\" :\"visitor\",\n",
    "\"site editor\" :\"editor\",\n",
    "\"site admin\" :\"admin\",\n",
    "\"visitor\" :\"visitor\",\n",
    "\"recruiter\" :\"recruiter\",\n",
    "\"advertiser\" :\"advertiser\",\n",
    "\"site member who has read a teaser on the front page\" :\"member\",\n",
    "\"CSM\" :\"manager\",\n",
    "\"corporatesponsor\" :\"sponsor\",\n",
    "\"CST\" :\"tester\",\n",
    "\"member\" :\"member\",\n",
    "\"team member\" :\"member\",\n",
    "\"stakeholder\" :\"stakeholder\",\n",
    "\"NSF employee\" :\"employee\",\n",
    "\"designer\" :\"designer\",\n",
    "\"user researcher\" :\"user\",\n",
    "\"content editor\" :\"editor\",\n",
    "\"research participant\" :\"researcher\",\n",
    "\"NSF administrator\" :\"admin\",\n",
    "\"researcher\" :\"researcher\",\n",
    "\"CMS administrator\" :\"admin\",\n",
    "\"CMS SME\" :\"supervisor\",\n",
    "\"web recruiter manager\" :\"manager\",\n",
    "\"content designer\" :\"designer\",\n",
    "\"workshop attendee\" :\"attendee\",\n",
    "\"NSF person interested in attending user interviews\" :\"user\",\n",
    "\"NSF member of the team\" :\"member\",\n",
    "\"VisualDesigner\" :\"designer\",\n",
    "\"author\" :\"author\",\n",
    "\"potential research participant\" :\"researcher\",\n",
    "\"camp administrator\" :\"admin\",\n",
    "\"parent\" :\"parent\",\n",
    "\"camp worker\" :\"worker\",\n",
    "\"camp counselor\" :\"counselor\",\n",
    "\"moderator\" :\"moderator\",\n",
    "\"estimator\" :\"estimator\",\n",
    "\"participant\" :\"participant\",\n",
    "\"Mike\" :\"visitor\",\n",
    "\"Visitor\" :\"visitor\",\n",
    "\"Admin\" :\"admin\",\n",
    "\"Consumer\" :\"consumer\",\n",
    "\"consumer\" :\"consumer\",\n",
    "\"Data Analyst\" :\"analyst\",\n",
    "\"Web Developer\" :\"developer\",\n",
    "\"collection curator\" :\"curator\",\n",
    "\"repository manager\" :\"manager\",\n",
    "\"faculty member\" :\"member\",\n",
    "\"DPC\" :\"curator\",\n",
    "\"repoadmin\" :\"admin\",\n",
    "\"DigitalRecords Archivist\" :\"archivist\",\n",
    "\"batch submitter\" :\"submitter\",\n",
    "\"manager\" :\"manager\",\n",
    "\"data contributor\" :\"analyst\",\n",
    "\"depositor\" :\"depositor\",\n",
    "\"collection owner\" :\"owner\",\n",
    "\"non-Duke researcher\" :\"researcher\",\n",
    "\"app developer\" :\"developer\",\n",
    "\"dataset developer\" :\"developer\",\n",
    "\"data scientist\" :\"analyst\",\n",
    "\"hydrator user\" :\"user\",\n",
    "\"plugin developer\" :\"developer\",\n",
    "\"pipeline developer\" :\"developer\",\n",
    "\"pipeline designer\" :\"designer\",\n",
    "\"system administrator\" :\"admin\",\n",
    "\"release engineer\" :\"engineer\",\n",
    "\"investigator\" :\"investigator\",\n",
    "\"MRI operator\" :\"operator\",\n",
    "\"lab administrator\" :\"admin\",\n",
    "\"systems administrator\" :\"admin\",\n",
    "\"supervisor\" :\"supervisor\",\n",
    "\"administrator\" :\"admin\",\n",
    "\"lab member\" :\"member\",\n",
    "\"researcher\" :\"researcher\",\n",
    "\"user\" :\"user\",\n",
    "\"JuniorResearcher\" :\"researcher\",\n",
    "\"OlderPerson\" :\"visitor\",\n",
    "\"MedicalCaregiver\" :\"worker\",\n",
    "\"SocialCaregiver\" :\"worker\",\n",
    "\"InformalCaregiver\" :\"worker\",\n",
    "\"serious games developer\" :\"developer\",\n",
    "\"anonymoususer\" :\"user\",\n",
    "\"trainingcoordinator\" :\"coordinator\",\n",
    "\"attendee\" :\"attendee\",\n",
    "\"trainee\" :\"trainee\",\n",
    "\"authenticateduser\" :\"user\",\n",
    "\"sponsor\" :\"sponsor\",\n",
    "\"summit coordinator\" :\"coordinator\",\n",
    "\"PI\" :\"visitor\",\n",
    "\"data manager\" :\"manager\",\n",
    "\"repository owner\" :\"owner\",\n",
    "\"IT manager\" :\"manager\",\n",
    "\"IT staff member\" :\"staff\",\n",
    "\"legalofficer\" :\"officer\",\n",
    "\"data librarian\" :\"analyst\",\n",
    "\"archivemanager\" :\"manager\",\n",
    "\"research head\" :\"researcher\",\n",
    "\"funder\" :\"funder\",\n",
    "\"metadata manager\" :\"manager\",\n",
    "\"rector\" :\"rector\",\n",
    "\"ethics manager\" :\"manager\",\n",
    "\"repository operator\" :\"operator\",\n",
    "\"IT officer\" :\"officer\",\n",
    "\"Research Centre Director\" :\"researcher\",\n",
    "\"Postgraduate Convenor\" :\"convenor\",\n",
    "\"research support officer\" :\"researcher\",\n",
    "\"Director of Research Integrity\" :\"researcher\",\n",
    "\"archive\" :\"archivist\",\n",
    "\"research evaluation manager\" :\"manager\",\n",
    "\"institutional data steward\" :\"analyst\",\n",
    "\"institutional data manager\" :\"manager\",\n",
    "\"faculty data steward\" :\"analyst\",\n",
    "\"Application Administrator\" :\"admin\",\n",
    "\"Archivist\" :\"archivist\",\n",
    "\"User\" :\"user\",\n",
    "\"migration specialist\" :\"specialist\",\n",
    "\"Authenticated User\" :\"user\",\n",
    "\"Application Administrator\" :\"admin\",\n",
    "\"Administrator\" :\"admin\",\n",
    "\"archivist\" :\"archivist\",\n",
    "\"Repository Manager\" :\"manager\",\n",
    "\"Basic Data Entry user\" :\"user\",\n",
    "\"ReadOnly user\" :\"user\",\n",
    "\"System Administrator\" :\"admin\",\n",
    "\"data reuser\" :\"user\",\n",
    "\"externalcollaborator\" :\"collaborator\",\n",
    "\"externalcoordinator\" :\"coordinator\",\n",
    "\"research facility manager\" :\"manager\",\n",
    "\"Bath Data Archive administrator\" :\"admin\",\n",
    "\"Research Information manager\" :\"manager\",\n",
    "\"UnivITservice\" :\"worker\",\n",
    "\"academicpublisher\" :\"publisher\",\n",
    "\"fundingbody\" :\"stakeholder\",\n",
    "\"DAMS manager\" :\"manager\",\n",
    "\"assistant archivist\" :\"archivist\",\n",
    "\"donor representative\" :\"representative\",\n",
    "\"researcher  I want to access digitized archival materials without mediation  so that I can decide what\" :\"researcher\",\n",
    "\"Cornell faculty member\" :\"member\",\n",
    "\"patron\" :\"patron\",\n",
    "\"DB/IR administrator\" :\"admin\",\n",
    "\"library staff member\" :\"staff\",\n",
    "\"crossdeptprojteammember\" :\"member\",\n",
    "\"Extension Administrator\" :\"admin\",\n",
    "\"repository support team member\" :\"member\",\n",
    "\"academicresearcher\" :\"researcher\",\n",
    "\"externaluser\" :\"user\",\n",
    "\"student\" :\"student\",\n",
    "\"teachingfacultymember\" :\"member\",\n",
    "\"Extension Administrator or Staff Content Manager\" :\"admin\",\n",
    "\"Extension Educator\" :\"educator\",\n",
    "\"librarydiscoveryoperator\" :\"operator\",\n",
    "\"asset manager\" :\"manager\",\n",
    "\"data curator\" :\"curator\",\n",
    "\"Zooniverse admin\" :\"admin\",\n",
    "\"Repository manager\" : \"manager\"}"
   ]
  },
  {
   "cell_type": "code",
   "execution_count": 29,
   "id": "edaa812d",
   "metadata": {},
   "outputs": [
    {
     "data": {
      "text/plain": [
       "'developer'"
      ]
     },
     "execution_count": 29,
     "metadata": {},
     "output_type": "execute_result"
    }
   ],
   "source": [
    "role_dict[df['role'][40]]"
   ]
  },
  {
   "cell_type": "code",
   "execution_count": 30,
   "id": "d4366eca",
   "metadata": {},
   "outputs": [],
   "source": [
    "# Making similar roles as one role\n",
    "df['urole']=df['role'].apply(lambda x:role_dict[x])"
   ]
  },
  {
   "cell_type": "code",
   "execution_count": 31,
   "id": "551d59ca",
   "metadata": {},
   "outputs": [
    {
     "data": {
      "text/html": [
       "<div>\n",
       "<style scoped>\n",
       "    .dataframe tbody tr th:only-of-type {\n",
       "        vertical-align: middle;\n",
       "    }\n",
       "\n",
       "    .dataframe tbody tr th {\n",
       "        vertical-align: top;\n",
       "    }\n",
       "\n",
       "    .dataframe thead th {\n",
       "        text-align: right;\n",
       "    }\n",
       "</style>\n",
       "<table border=\"1\" class=\"dataframe\">\n",
       "  <thead>\n",
       "    <tr style=\"text-align: right;\">\n",
       "      <th></th>\n",
       "      <th>story</th>\n",
       "      <th>role</th>\n",
       "      <th>urole</th>\n",
       "    </tr>\n",
       "  </thead>\n",
       "  <tbody>\n",
       "    <tr>\n",
       "      <th>436</th>\n",
       "      <td>As an NSF administrator  I want to shadow the CMS implementation  so that I can learn as the pro...</td>\n",
       "      <td>NSF administrator</td>\n",
       "      <td>admin</td>\n",
       "    </tr>\n",
       "    <tr>\n",
       "      <th>801</th>\n",
       "      <td>As a user  I want to navigate forwards and backwards between log books and log book pages withou...</td>\n",
       "      <td>user</td>\n",
       "      <td>user</td>\n",
       "    </tr>\n",
       "  </tbody>\n",
       "</table>\n",
       "</div>"
      ],
      "text/plain": [
       "                                                                                                   story  \\\n",
       "436  As an NSF administrator  I want to shadow the CMS implementation  so that I can learn as the pro...   \n",
       "801  As a user  I want to navigate forwards and backwards between log books and log book pages withou...   \n",
       "\n",
       "                  role  urole  \n",
       "436  NSF administrator  admin  \n",
       "801               user   user  "
      ]
     },
     "execution_count": 31,
     "metadata": {},
     "output_type": "execute_result"
    }
   ],
   "source": [
    "df.sample(2)"
   ]
  },
  {
   "cell_type": "code",
   "execution_count": 32,
   "id": "74ccfe63",
   "metadata": {},
   "outputs": [],
   "source": [
    "df['role']=df['urole']"
   ]
  },
  {
   "cell_type": "code",
   "execution_count": 33,
   "id": "e3441dfa",
   "metadata": {},
   "outputs": [],
   "source": [
    "df=df.drop('urole',axis=1)"
   ]
  },
  {
   "cell_type": "code",
   "execution_count": 34,
   "id": "2bc47d63",
   "metadata": {},
   "outputs": [
    {
     "data": {
      "text/html": [
       "<div>\n",
       "<style scoped>\n",
       "    .dataframe tbody tr th:only-of-type {\n",
       "        vertical-align: middle;\n",
       "    }\n",
       "\n",
       "    .dataframe tbody tr th {\n",
       "        vertical-align: top;\n",
       "    }\n",
       "\n",
       "    .dataframe thead th {\n",
       "        text-align: right;\n",
       "    }\n",
       "</style>\n",
       "<table border=\"1\" class=\"dataframe\">\n",
       "  <thead>\n",
       "    <tr style=\"text-align: right;\">\n",
       "      <th></th>\n",
       "      <th>story</th>\n",
       "      <th>role</th>\n",
       "    </tr>\n",
       "  </thead>\n",
       "  <tbody>\n",
       "    <tr>\n",
       "      <th>1571</th>\n",
       "      <td>As a researcher  I want to promote/share my work through interactive maps  so that I can display...</td>\n",
       "      <td>researcher</td>\n",
       "    </tr>\n",
       "    <tr>\n",
       "      <th>409</th>\n",
       "      <td>As a company  I want to join the Scrum Alliance by paying a corporate membership fee  so that I ...</td>\n",
       "      <td>company</td>\n",
       "    </tr>\n",
       "  </tbody>\n",
       "</table>\n",
       "</div>"
      ],
      "text/plain": [
       "                                                                                                    story  \\\n",
       "1571  As a researcher  I want to promote/share my work through interactive maps  so that I can display...   \n",
       "409   As a company  I want to join the Scrum Alliance by paying a corporate membership fee  so that I ...   \n",
       "\n",
       "            role  \n",
       "1571  researcher  \n",
       "409      company  "
      ]
     },
     "execution_count": 34,
     "metadata": {},
     "output_type": "execute_result"
    }
   ],
   "source": [
    "df.sample(2)"
   ]
  },
  {
   "cell_type": "code",
   "execution_count": 35,
   "id": "01982837",
   "metadata": {},
   "outputs": [
    {
     "data": {
      "text/plain": [
       "array(['user', 'designer', 'developer', 'engineer', 'owner', 'member',\n",
       "       'tester', 'applicant', 'Customer', 'staff', 'supervisor',\n",
       "       'inspector', 'admin', 'executive', 'employee', 'company',\n",
       "       'representative', 'researcher', 'publisher', 'analyst', 'manager',\n",
       "       'activist', 'trainer', 'visitor', 'editor', 'recruiter',\n",
       "       'advertiser', 'sponsor', 'stakeholder', 'attendee', 'author',\n",
       "       'parent', 'worker', 'counselor', 'moderator', 'estimator',\n",
       "       'participant', 'consumer', 'curator', 'archivist', 'submitter',\n",
       "       'depositor', 'investigator', 'operator', 'coordinator', 'trainee',\n",
       "       'officer', 'funder', 'rector', 'convenor', 'specialist',\n",
       "       'collaborator', 'patron', 'student', 'educator'], dtype=object)"
      ]
     },
     "execution_count": 35,
     "metadata": {},
     "output_type": "execute_result"
    }
   ],
   "source": [
    "df['role'].unique()"
   ]
  },
  {
   "cell_type": "code",
   "execution_count": 36,
   "id": "376adc6a",
   "metadata": {},
   "outputs": [],
   "source": [
    "# Now we want to assign the story points for each story based on heuristic approach\n",
    "# First, We will decide min and max story points for a particular role then we assign a particular number \n",
    "# between the given range for a role\n",
    "min_dict = {\"user\" : \"3\",\n",
    "\"designer\" : \"5\",\n",
    "\"developer\" : \"6\",\n",
    "\"engineer\" : \"4\",\n",
    "\"owner\" : \"5\",\n",
    "\"member\" : \"2\",\n",
    "\"tester\" : \"4\",\n",
    "\"applicant\" : \"1\",\n",
    "\"Customer\" : \"3\",\n",
    "\"staff\" : \"4\",\n",
    "\"supervisor\" : \"4\",\n",
    "\"inspector\" : \"3\",\n",
    "\"admin\" : \"12\",\n",
    "\"executive\" : \"5\",\n",
    "\"employee\" : \"2\",\n",
    "\"company\" : \"3\",\n",
    "\"representative\" : \"1\",\n",
    "\"researcher\" : \"15\",\n",
    "\"publisher\" : \"1\",\n",
    "\"analyst\" : \"25\",\n",
    "\"manager\" : \"4\",\n",
    "\"activist\" : \"1\",\n",
    "\"trainer\" : \"12\",\n",
    "\"visitor\" : \"1\",\n",
    "\"editor\" : \"2\",\n",
    "\"recruiter\" : \"1\",\n",
    "\"advertiser\" : \"4\",\n",
    "\"sponsor\" : \"1\",\n",
    "\"stakeholder\" : \"1\",\n",
    "\"attendee\" : \"5\",\n",
    "\"author\" : \"16\",\n",
    "\"parent\" : \"1\",\n",
    "\"worker\" : \"8\",\n",
    "\"counselor\" : \"2\",\n",
    "\"moderator\" : \"4\",\n",
    "\"estimator\" : \"4\",\n",
    "\"participant\" : \"1\",\n",
    "\"consumer\" : \"1\",\n",
    "\"curator\" : \"4\",\n",
    "\"archivist\" : \"10\",\n",
    "\"submitter\" : \"1\",\n",
    "\"depositor\" : \"1\",\n",
    "\"investigator\" : \"5\",\n",
    "\"operator\" : \"4\",\n",
    "\"coordinator\" : \"7\",\n",
    "\"trainee\" : \"4\",\n",
    "\"officer\" : \"1\",\n",
    "\"funder\" : \"1\",\n",
    "\"rector\" : \"1\",\n",
    "\"convenor\" : \"5\",\n",
    "\"specialist\" : \"20\",\n",
    "\"collaborator\" : \"15\",\n",
    "\"patron\" : \"1\",\n",
    "\"student\" : \"1\",\n",
    "\"educator\" : \"5\"}\n"
   ]
  },
  {
   "cell_type": "code",
   "execution_count": 37,
   "id": "b2be7b45",
   "metadata": {},
   "outputs": [],
   "source": [
    "max_dict = {\"user\" : \"10\",\n",
    "\"designer\" : \"12\",\n",
    "\"developer\" : \"15\",\n",
    "\"engineer\" : \"10\",\n",
    "\"owner\" : \"13\",\n",
    "\"member\" : \"7\",\n",
    "\"tester\" : \"8\",\n",
    "\"applicant\" : \"3\",\n",
    "\"Customer\" : \"15\",\n",
    "\"staff\" : \"12\",\n",
    "\"supervisor\" : \"7\",\n",
    "\"inspector\" : \"20\",\n",
    "\"admin\" : \"23\",\n",
    "\"executive\" : \"13\",\n",
    "\"employee\" : \"7\",\n",
    "\"company\" : \"7\",\n",
    "\"representative\" : \"3\",\n",
    "\"researcher\" : \"25\",\n",
    "\"publisher\" : \"4\",\n",
    "\"analyst\" : \"60\",\n",
    "\"manager\" : \"13\",\n",
    "\"activist\" : \"6\",\n",
    "\"trainer\" : \"15\",\n",
    "\"visitor\" : \"2\",\n",
    "\"editor\" : \"7\",\n",
    "\"recruiter\" : \"3\",\n",
    "\"advertiser\" : \"9\",\n",
    "\"sponsor\" : \"3\",\n",
    "\"stakeholder\" : \"2\",\n",
    "\"attendee\" : \"15\",\n",
    "\"author\" : \"27\",\n",
    "\"parent\" : \"2\",\n",
    "\"worker\" : \"14\",\n",
    "\"counselor\" : \"5\",\n",
    "\"moderator\" : \"9\",\n",
    "\"estimator\" : \"10\",\n",
    "\"participant\" : \"9\",\n",
    "\"consumer\" : \"6\",\n",
    "\"curator\" : \"7\",\n",
    "\"archivist\" : \"23\",\n",
    "\"submitter\" : \"3\",\n",
    "\"depositor\" : \"2\",\n",
    "\"investigator\" : \"18\",\n",
    "\"operator\" : \"9\",\n",
    "\"coordinator\" : \"15\",\n",
    "\"trainee\" : \"15\",\n",
    "\"officer\" : \"3\",\n",
    "\"funder\" : \"3\",\n",
    "\"rector\" : \"4\",\n",
    "\"convenor\" : \"6\",\n",
    "\"specialist\" : \"30\",\n",
    "\"collaborator\" : \"26\",\n",
    "\"patron\" : \"3\",\n",
    "\"student\" : \"4\",\n",
    "\"educator\" : \"9\"}"
   ]
  },
  {
   "cell_type": "code",
   "execution_count": 38,
   "id": "08909878",
   "metadata": {},
   "outputs": [],
   "source": [
    "# Try to assign value of story point between min and max range\n",
    "import random\n",
    "df['story_point']=df['role'].apply(lambda x: random.randint(int(min_dict[x]),int(max_dict[x])))"
   ]
  },
  {
   "cell_type": "code",
   "execution_count": 39,
   "id": "e4d645e4",
   "metadata": {},
   "outputs": [
    {
     "data": {
      "text/html": [
       "<div>\n",
       "<style scoped>\n",
       "    .dataframe tbody tr th:only-of-type {\n",
       "        vertical-align: middle;\n",
       "    }\n",
       "\n",
       "    .dataframe tbody tr th {\n",
       "        vertical-align: top;\n",
       "    }\n",
       "\n",
       "    .dataframe thead th {\n",
       "        text-align: right;\n",
       "    }\n",
       "</style>\n",
       "<table border=\"1\" class=\"dataframe\">\n",
       "  <thead>\n",
       "    <tr style=\"text-align: right;\">\n",
       "      <th></th>\n",
       "      <th>story</th>\n",
       "      <th>role</th>\n",
       "      <th>story_point</th>\n",
       "    </tr>\n",
       "  </thead>\n",
       "  <tbody>\n",
       "    <tr>\n",
       "      <th>0</th>\n",
       "      <td>As a Data user  I want to have the 12-19-2017 deletions processed.</td>\n",
       "      <td>user</td>\n",
       "      <td>9</td>\n",
       "    </tr>\n",
       "    <tr>\n",
       "      <th>1</th>\n",
       "      <td>As a UI designer  I want to redesign the Resources page  so that it matches the new Broker desig...</td>\n",
       "      <td>designer</td>\n",
       "      <td>5</td>\n",
       "    </tr>\n",
       "    <tr>\n",
       "      <th>2</th>\n",
       "      <td>As a UI designer  I want to report to the Agencies about user testing  so that they are aware of...</td>\n",
       "      <td>designer</td>\n",
       "      <td>8</td>\n",
       "    </tr>\n",
       "    <tr>\n",
       "      <th>3</th>\n",
       "      <td>As a UI designer  I want to move on to round 2 of DABS or FABS landing page edits  so that I can...</td>\n",
       "      <td>designer</td>\n",
       "      <td>5</td>\n",
       "    </tr>\n",
       "    <tr>\n",
       "      <th>4</th>\n",
       "      <td>As a UI designer  I want to move on to round 2 of Homepage edits  so that I can get approvals fr...</td>\n",
       "      <td>designer</td>\n",
       "      <td>8</td>\n",
       "    </tr>\n",
       "    <tr>\n",
       "      <th>...</th>\n",
       "      <td>...</td>\n",
       "      <td>...</td>\n",
       "      <td>...</td>\n",
       "    </tr>\n",
       "    <tr>\n",
       "      <th>1666</th>\n",
       "      <td>As a Zooniverse admin  I want to know when Zoonibot should give an explanation.</td>\n",
       "      <td>admin</td>\n",
       "      <td>17</td>\n",
       "    </tr>\n",
       "    <tr>\n",
       "      <th>1667</th>\n",
       "      <td>As a Zooniverse admin  I want to know what Zoonibot should say to a volunteer.</td>\n",
       "      <td>admin</td>\n",
       "      <td>22</td>\n",
       "    </tr>\n",
       "    <tr>\n",
       "      <th>1668</th>\n",
       "      <td>As a Zooniverse admin  I want to group subjects by similarity.</td>\n",
       "      <td>admin</td>\n",
       "      <td>15</td>\n",
       "    </tr>\n",
       "    <tr>\n",
       "      <th>1669</th>\n",
       "      <td>As a Zooniverse admin  I want to recommend different projects to volunteers based on their previ...</td>\n",
       "      <td>admin</td>\n",
       "      <td>13</td>\n",
       "    </tr>\n",
       "    <tr>\n",
       "      <th>1670</th>\n",
       "      <td>As an admin  I want to see a summary of articles  so that I reuse them.</td>\n",
       "      <td>admin</td>\n",
       "      <td>19</td>\n",
       "    </tr>\n",
       "  </tbody>\n",
       "</table>\n",
       "<p>1671 rows × 3 columns</p>\n",
       "</div>"
      ],
      "text/plain": [
       "                                                                                                    story  \\\n",
       "0                                      As a Data user  I want to have the 12-19-2017 deletions processed.   \n",
       "1     As a UI designer  I want to redesign the Resources page  so that it matches the new Broker desig...   \n",
       "2     As a UI designer  I want to report to the Agencies about user testing  so that they are aware of...   \n",
       "3     As a UI designer  I want to move on to round 2 of DABS or FABS landing page edits  so that I can...   \n",
       "4     As a UI designer  I want to move on to round 2 of Homepage edits  so that I can get approvals fr...   \n",
       "...                                                                                                   ...   \n",
       "1666                     As a Zooniverse admin  I want to know when Zoonibot should give an explanation.    \n",
       "1667                      As a Zooniverse admin  I want to know what Zoonibot should say to a volunteer.    \n",
       "1668                                      As a Zooniverse admin  I want to group subjects by similarity.    \n",
       "1669  As a Zooniverse admin  I want to recommend different projects to volunteers based on their previ...   \n",
       "1670                             As an admin  I want to see a summary of articles  so that I reuse them.    \n",
       "\n",
       "          role  story_point  \n",
       "0         user            9  \n",
       "1     designer            5  \n",
       "2     designer            8  \n",
       "3     designer            5  \n",
       "4     designer            8  \n",
       "...        ...          ...  \n",
       "1666     admin           17  \n",
       "1667     admin           22  \n",
       "1668     admin           15  \n",
       "1669     admin           13  \n",
       "1670     admin           19  \n",
       "\n",
       "[1671 rows x 3 columns]"
      ]
     },
     "execution_count": 39,
     "metadata": {},
     "output_type": "execute_result"
    }
   ],
   "source": [
    "df"
   ]
  },
  {
   "cell_type": "code",
   "execution_count": 40,
   "id": "aa91e80a",
   "metadata": {},
   "outputs": [],
   "source": [
    "# Pickle the data for further use\n",
    "import pickle\n"
   ]
  },
  {
   "cell_type": "code",
   "execution_count": 41,
   "id": "6075a878",
   "metadata": {},
   "outputs": [],
   "source": [
    "f=open('first_df.pkl','wb')\n",
    "pickle.dump(df,f)\n",
    "f.close()"
   ]
  },
  {
   "cell_type": "code",
   "execution_count": 42,
   "id": "0ec856ca",
   "metadata": {},
   "outputs": [],
   "source": [
    "# Pickling check:\n",
    "g=open('first_df.pkl','rb')\n",
    "pdf=pickle.load(g)\n",
    "g.close()"
   ]
  },
  {
   "cell_type": "code",
   "execution_count": 43,
   "id": "5ed46fbb",
   "metadata": {},
   "outputs": [
    {
     "data": {
      "text/html": [
       "<div>\n",
       "<style scoped>\n",
       "    .dataframe tbody tr th:only-of-type {\n",
       "        vertical-align: middle;\n",
       "    }\n",
       "\n",
       "    .dataframe tbody tr th {\n",
       "        vertical-align: top;\n",
       "    }\n",
       "\n",
       "    .dataframe thead th {\n",
       "        text-align: right;\n",
       "    }\n",
       "</style>\n",
       "<table border=\"1\" class=\"dataframe\">\n",
       "  <thead>\n",
       "    <tr style=\"text-align: right;\">\n",
       "      <th></th>\n",
       "      <th>story</th>\n",
       "      <th>role</th>\n",
       "      <th>story_point</th>\n",
       "    </tr>\n",
       "  </thead>\n",
       "  <tbody>\n",
       "    <tr>\n",
       "      <th>0</th>\n",
       "      <td>As a Data user  I want to have the 12-19-2017 deletions processed.</td>\n",
       "      <td>user</td>\n",
       "      <td>9</td>\n",
       "    </tr>\n",
       "    <tr>\n",
       "      <th>1</th>\n",
       "      <td>As a UI designer  I want to redesign the Resources page  so that it matches the new Broker desig...</td>\n",
       "      <td>designer</td>\n",
       "      <td>5</td>\n",
       "    </tr>\n",
       "    <tr>\n",
       "      <th>2</th>\n",
       "      <td>As a UI designer  I want to report to the Agencies about user testing  so that they are aware of...</td>\n",
       "      <td>designer</td>\n",
       "      <td>8</td>\n",
       "    </tr>\n",
       "    <tr>\n",
       "      <th>3</th>\n",
       "      <td>As a UI designer  I want to move on to round 2 of DABS or FABS landing page edits  so that I can...</td>\n",
       "      <td>designer</td>\n",
       "      <td>5</td>\n",
       "    </tr>\n",
       "    <tr>\n",
       "      <th>4</th>\n",
       "      <td>As a UI designer  I want to move on to round 2 of Homepage edits  so that I can get approvals fr...</td>\n",
       "      <td>designer</td>\n",
       "      <td>8</td>\n",
       "    </tr>\n",
       "    <tr>\n",
       "      <th>...</th>\n",
       "      <td>...</td>\n",
       "      <td>...</td>\n",
       "      <td>...</td>\n",
       "    </tr>\n",
       "    <tr>\n",
       "      <th>1666</th>\n",
       "      <td>As a Zooniverse admin  I want to know when Zoonibot should give an explanation.</td>\n",
       "      <td>admin</td>\n",
       "      <td>17</td>\n",
       "    </tr>\n",
       "    <tr>\n",
       "      <th>1667</th>\n",
       "      <td>As a Zooniverse admin  I want to know what Zoonibot should say to a volunteer.</td>\n",
       "      <td>admin</td>\n",
       "      <td>22</td>\n",
       "    </tr>\n",
       "    <tr>\n",
       "      <th>1668</th>\n",
       "      <td>As a Zooniverse admin  I want to group subjects by similarity.</td>\n",
       "      <td>admin</td>\n",
       "      <td>15</td>\n",
       "    </tr>\n",
       "    <tr>\n",
       "      <th>1669</th>\n",
       "      <td>As a Zooniverse admin  I want to recommend different projects to volunteers based on their previ...</td>\n",
       "      <td>admin</td>\n",
       "      <td>13</td>\n",
       "    </tr>\n",
       "    <tr>\n",
       "      <th>1670</th>\n",
       "      <td>As an admin  I want to see a summary of articles  so that I reuse them.</td>\n",
       "      <td>admin</td>\n",
       "      <td>19</td>\n",
       "    </tr>\n",
       "  </tbody>\n",
       "</table>\n",
       "<p>1671 rows × 3 columns</p>\n",
       "</div>"
      ],
      "text/plain": [
       "                                                                                                    story  \\\n",
       "0                                      As a Data user  I want to have the 12-19-2017 deletions processed.   \n",
       "1     As a UI designer  I want to redesign the Resources page  so that it matches the new Broker desig...   \n",
       "2     As a UI designer  I want to report to the Agencies about user testing  so that they are aware of...   \n",
       "3     As a UI designer  I want to move on to round 2 of DABS or FABS landing page edits  so that I can...   \n",
       "4     As a UI designer  I want to move on to round 2 of Homepage edits  so that I can get approvals fr...   \n",
       "...                                                                                                   ...   \n",
       "1666                     As a Zooniverse admin  I want to know when Zoonibot should give an explanation.    \n",
       "1667                      As a Zooniverse admin  I want to know what Zoonibot should say to a volunteer.    \n",
       "1668                                      As a Zooniverse admin  I want to group subjects by similarity.    \n",
       "1669  As a Zooniverse admin  I want to recommend different projects to volunteers based on their previ...   \n",
       "1670                             As an admin  I want to see a summary of articles  so that I reuse them.    \n",
       "\n",
       "          role  story_point  \n",
       "0         user            9  \n",
       "1     designer            5  \n",
       "2     designer            8  \n",
       "3     designer            5  \n",
       "4     designer            8  \n",
       "...        ...          ...  \n",
       "1666     admin           17  \n",
       "1667     admin           22  \n",
       "1668     admin           15  \n",
       "1669     admin           13  \n",
       "1670     admin           19  \n",
       "\n",
       "[1671 rows x 3 columns]"
      ]
     },
     "execution_count": 43,
     "metadata": {},
     "output_type": "execute_result"
    }
   ],
   "source": [
    "pdf"
   ]
  },
  {
   "cell_type": "code",
   "execution_count": 44,
   "id": "cb46274c",
   "metadata": {},
   "outputs": [],
   "source": [
    "# Fin"
   ]
  }
 ],
 "metadata": {
  "kernelspec": {
   "display_name": "Python 3 (ipykernel)",
   "language": "python",
   "name": "python3"
  },
  "language_info": {
   "codemirror_mode": {
    "name": "ipython",
    "version": 3
   },
   "file_extension": ".py",
   "mimetype": "text/x-python",
   "name": "python",
   "nbconvert_exporter": "python",
   "pygments_lexer": "ipython3",
   "version": "3.9.4"
  }
 },
 "nbformat": 4,
 "nbformat_minor": 5
}
